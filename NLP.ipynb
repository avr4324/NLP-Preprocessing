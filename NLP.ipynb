{
  "nbformat": 4,
  "nbformat_minor": 0,
  "metadata": {
    "colab": {
      "name": "PythonClass1.ipynb",
      "provenance": []
    },
    "kernelspec": {
      "name": "python3",
      "display_name": "Python 3"
    }
  },
  "cells": [
    {
      "cell_type": "code",
      "metadata": {
        "id": "eku5QRy49kMM",
        "colab": {
          "base_uri": "https://localhost:8080/"
        },
        "outputId": "e53c56cc-9c0e-4f8d-d601-be6bbe78fee2"
      },
      "source": [
        "import nltk\n",
        "nltk.download('punkt')"
      ],
      "execution_count": null,
      "outputs": [
        {
          "output_type": "stream",
          "name": "stdout",
          "text": [
            "[nltk_data] Downloading package punkt to /root/nltk_data...\n",
            "[nltk_data]   Unzipping tokenizers/punkt.zip.\n"
          ]
        },
        {
          "output_type": "execute_result",
          "data": {
            "text/plain": [
              "True"
            ]
          },
          "metadata": {},
          "execution_count": 3
        }
      ]
    },
    {
      "cell_type": "markdown",
      "metadata": {
        "id": "Z-DT-ZKQ_j0R"
      },
      "source": [
        "Punkt Sentence Tokenizer. This tokenizer divides a text into a list of \n",
        "sentences, by using an unsupervised algorithm to build a model for abbreviation words, collocations, and words that start sentences.\n"
      ]
    },
    {
      "cell_type": "markdown",
      "metadata": {
        "id": "95InaCU89Ecd"
      },
      "source": [
        "Line Tokenization\n",
        "In the below example we divide a given text into different lines by using the function sent_tokenize."
      ]
    },
    {
      "cell_type": "markdown",
      "metadata": {
        "id": "PA44RkJiAX1X"
      },
      "source": [
        ""
      ]
    },
    {
      "cell_type": "code",
      "metadata": {
        "id": "nITJmKdT83uW",
        "colab": {
          "base_uri": "https://localhost:8080/"
        },
        "outputId": "97e17c28-c424-43c3-b198-28e9ffa6ec4c"
      },
      "source": [
        "\n",
        "sentence_data = \"The First sentence is about Python. The Second: about Django. You can learn Python,Django and Data Ananlysis here. \"\n",
        "nltk_sents = nltk.sent_tokenize(sentence_data)\n",
        "print(len(nltk_sents))\n",
        "for sent in nltk_sents:\n",
        "   words=nltk.word_tokenize(sent)\n",
        "   for word in words:\n",
        "     print(word)"
      ],
      "execution_count": null,
      "outputs": [
        {
          "output_type": "stream",
          "name": "stdout",
          "text": [
            "3\n",
            "The\n",
            "First\n",
            "sentence\n",
            "is\n",
            "about\n",
            "Python\n",
            ".\n",
            "The\n",
            "Second\n",
            ":\n",
            "about\n",
            "Django\n",
            ".\n",
            "You\n",
            "can\n",
            "learn\n",
            "Python\n",
            ",\n",
            "Django\n",
            "and\n",
            "Data\n",
            "Ananlysis\n",
            "here\n",
            ".\n"
          ]
        }
      ]
    },
    {
      "cell_type": "markdown",
      "metadata": {
        "id": "n10cs1tDAaaR"
      },
      "source": [
        "**Word Tokenzitaion**\n",
        "We tokenize the words using word_tokenize function available as part of nltk."
      ]
    },
    {
      "cell_type": "code",
      "metadata": {
        "id": "xwP-5xGe9Dk8",
        "colab": {
          "base_uri": "https://localhost:8080/"
        },
        "outputId": "7d6f7a5c-c96f-4b3c-c433-45fa476d778f"
      },
      "source": [
        "word_data = \"It originated from the idea that there are readers who prefer learning new skills from the comforts of their drawing rooms\"\n",
        "nltk_tokens = nltk.word_tokenize(word_data)\n",
        "print(len(nltk_tokens))\n",
        "for i in nltk_tokens:\n",
        "  print(i)\n"
      ],
      "execution_count": null,
      "outputs": [
        {
          "output_type": "stream",
          "name": "stdout",
          "text": [
            "21\n",
            "It\n",
            "originated\n",
            "from\n",
            "the\n",
            "idea\n",
            "that\n",
            "there\n",
            "are\n",
            "readers\n",
            "who\n",
            "prefer\n",
            "learning\n",
            "new\n",
            "skills\n",
            "from\n",
            "the\n",
            "comforts\n",
            "of\n",
            "their\n",
            "drawing\n",
            "rooms\n"
          ]
        }
      ]
    },
    {
      "cell_type": "code",
      "metadata": {
        "id": "4ydS21eSDv53",
        "colab": {
          "base_uri": "https://localhost:8080/"
        },
        "outputId": "0627f28a-96a6-4f27-d62d-143fe1080e4f"
      },
      "source": [
        "nltk.download('stopwords')\n",
        "  "
      ],
      "execution_count": null,
      "outputs": [
        {
          "output_type": "stream",
          "name": "stdout",
          "text": [
            "[nltk_data] Downloading package stopwords to /root/nltk_data...\n",
            "[nltk_data]   Unzipping corpora/stopwords.zip.\n"
          ]
        },
        {
          "output_type": "execute_result",
          "data": {
            "text/plain": [
              "True"
            ]
          },
          "metadata": {},
          "execution_count": 11
        }
      ]
    },
    {
      "cell_type": "code",
      "metadata": {
        "id": "qi-R4hu2DiLc"
      },
      "source": [
        "from nltk.corpus import stopwords\n",
        "stop_words=stopwords.words('english')\n",
        "stop_words.extend(['near'])"
      ],
      "execution_count": 17,
      "outputs": []
    },
    {
      "cell_type": "code",
      "source": [
        "print(len(stop_words))"
      ],
      "metadata": {
        "colab": {
          "base_uri": "https://localhost:8080/"
        },
        "id": "r70JxtMtj4PD",
        "outputId": "ce1183ac-e016-48fc-aa38-c1f80e65a4b8"
      },
      "execution_count": 19,
      "outputs": [
        {
          "output_type": "stream",
          "name": "stdout",
          "text": [
            "180\n"
          ]
        }
      ]
    },
    {
      "cell_type": "code",
      "metadata": {
        "colab": {
          "base_uri": "https://localhost:8080/"
        },
        "id": "W6vBAkFfiPJE",
        "outputId": "3cc0e90c-4441-41fb-8b48-3551cb2f1749"
      },
      "source": [
        "\n",
        "stop_words[100:150]"
      ],
      "execution_count": null,
      "outputs": [
        {
          "output_type": "execute_result",
          "data": {
            "text/plain": [
              "['here',\n",
              " 'there',\n",
              " 'when',\n",
              " 'where',\n",
              " 'why',\n",
              " 'how',\n",
              " 'all',\n",
              " 'any',\n",
              " 'both',\n",
              " 'each',\n",
              " 'few',\n",
              " 'more',\n",
              " 'most',\n",
              " 'other',\n",
              " 'some',\n",
              " 'such',\n",
              " 'no',\n",
              " 'nor',\n",
              " 'not',\n",
              " 'only',\n",
              " 'own',\n",
              " 'same',\n",
              " 'so',\n",
              " 'than',\n",
              " 'too',\n",
              " 'very',\n",
              " 's',\n",
              " 't',\n",
              " 'can',\n",
              " 'will',\n",
              " 'just',\n",
              " 'don',\n",
              " \"don't\",\n",
              " 'should',\n",
              " \"should've\",\n",
              " 'now',\n",
              " 'd',\n",
              " 'll',\n",
              " 'm',\n",
              " 'o',\n",
              " 're',\n",
              " 've',\n",
              " 'y',\n",
              " 'ain',\n",
              " 'aren',\n",
              " \"aren't\",\n",
              " 'couldn',\n",
              " \"couldn't\",\n",
              " 'didn',\n",
              " \"didn't\"]"
            ]
          },
          "metadata": {},
          "execution_count": 15
        }
      ]
    },
    {
      "cell_type": "code",
      "metadata": {
        "id": "JpoSbOgREYmQ",
        "colab": {
          "base_uri": "https://localhost:8080/"
        },
        "outputId": "cb1d4ba0-bd3b-4415-cdae-cfea21f22dd2"
      },
      "source": [
        "from nltk.corpus import stopwords\n",
        "all_words = ['there', 'is', 'a', 'tree','near','the','river']\n",
        "for word in all_words: \n",
        "    if word not in stop_words:\n",
        "        print(word)"
      ],
      "execution_count": 20,
      "outputs": [
        {
          "output_type": "stream",
          "name": "stdout",
          "text": [
            "tree\n",
            "river\n"
          ]
        }
      ]
    },
    {
      "cell_type": "code",
      "metadata": {
        "id": "ZN44bZVKEjDN",
        "colab": {
          "base_uri": "https://localhost:8080/"
        },
        "outputId": "9b91e3db-8cfb-46da-df8d-ac0740abdcc7"
      },
      "source": [
        "pip install translate"
      ],
      "execution_count": 21,
      "outputs": [
        {
          "output_type": "stream",
          "name": "stdout",
          "text": [
            "Collecting translate\n",
            "  Downloading translate-3.6.1-py2.py3-none-any.whl (12 kB)\n",
            "Requirement already satisfied: requests in /usr/local/lib/python3.7/dist-packages (from translate) (2.23.0)\n",
            "Requirement already satisfied: lxml in /usr/local/lib/python3.7/dist-packages (from translate) (4.2.6)\n",
            "Requirement already satisfied: click in /usr/local/lib/python3.7/dist-packages (from translate) (7.1.2)\n",
            "Collecting libretranslatepy==2.1.1\n",
            "  Downloading libretranslatepy-2.1.1-py3-none-any.whl (3.2 kB)\n",
            "Requirement already satisfied: urllib3!=1.25.0,!=1.25.1,<1.26,>=1.21.1 in /usr/local/lib/python3.7/dist-packages (from requests->translate) (1.24.3)\n",
            "Requirement already satisfied: certifi>=2017.4.17 in /usr/local/lib/python3.7/dist-packages (from requests->translate) (2021.10.8)\n",
            "Requirement already satisfied: chardet<4,>=3.0.2 in /usr/local/lib/python3.7/dist-packages (from requests->translate) (3.0.4)\n",
            "Requirement already satisfied: idna<3,>=2.5 in /usr/local/lib/python3.7/dist-packages (from requests->translate) (2.10)\n",
            "Installing collected packages: libretranslatepy, translate\n",
            "Successfully installed libretranslatepy-2.1.1 translate-3.6.1\n"
          ]
        }
      ]
    },
    {
      "cell_type": "code",
      "metadata": {
        "id": "ug9j5aLcNUSv",
        "colab": {
          "base_uri": "https://localhost:8080/"
        },
        "outputId": "04b615c6-0d5c-497b-98ab-3225ba986e9d"
      },
      "source": [
        "from translate import Translator\n",
        "\n",
        "translator= Translator(to_lang=\"\")\n",
        "\n",
        "translation = translator.translate(\" sita and rani sing a song\")\n",
        "\n",
        "print(translation)"
      ],
      "execution_count": 24,
      "outputs": [
        {
          "output_type": "stream",
          "name": "stdout",
          "text": [
            "'' IS AN INVALID TARGET LANGUAGE . EXAMPLE: LANGPAIR=EN|IT USING 2 LETTER ISO OR RFC3066 LIKE ZH-CN. ALMOST ALL LANGUAGES SUPPORTED BUT SOME MAY HAVE NO CONTENT\n"
          ]
        }
      ]
    },
    {
      "cell_type": "code",
      "metadata": {
        "id": "ZwjeQwL7NsDE",
        "colab": {
          "base_uri": "https://localhost:8080/"
        },
        "outputId": "ad3508fd-21d1-4ce1-dc5f-88e81ac1446c"
      },
      "source": [
        "str = \"this is string example....wow!!! this is really string\"\n",
        "print (str.replace(\"is\", \"was\"))\n",
        "print (str.replace(\"is\", \"was\", 2))"
      ],
      "execution_count": null,
      "outputs": [
        {
          "output_type": "stream",
          "text": [
            "thwas was string example....wow!!! thwas was really string\n",
            "thwas was string example....wow!!! this is really string\n"
          ],
          "name": "stdout"
        }
      ]
    },
    {
      "cell_type": "code",
      "metadata": {
        "id": "Pa-mwsztOXVl",
        "colab": {
          "base_uri": "https://localhost:8080/"
        },
        "outputId": "1d157a73-ce87-4d74-a1f0-281bfede1ef5"
      },
      "source": [
        "pip install pyspellchecker "
      ],
      "execution_count": 25,
      "outputs": [
        {
          "output_type": "stream",
          "name": "stdout",
          "text": [
            "Collecting pyspellchecker\n",
            "  Downloading pyspellchecker-0.6.3-py3-none-any.whl (2.7 MB)\n",
            "\u001b[K     |████████████████████████████████| 2.7 MB 3.8 MB/s \n",
            "\u001b[?25hInstalling collected packages: pyspellchecker\n",
            "Successfully installed pyspellchecker-0.6.3\n"
          ]
        }
      ]
    },
    {
      "cell_type": "code",
      "metadata": {
        "id": "QQmGphLAWYE5"
      },
      "source": [
        ""
      ],
      "execution_count": null,
      "outputs": []
    },
    {
      "cell_type": "code",
      "metadata": {
        "id": "8PZgxV4uOaYL",
        "colab": {
          "base_uri": "https://localhost:8080/"
        },
        "outputId": "b04a3635-c826-4da8-988a-7ba77a943d40"
      },
      "source": [
        "from spellchecker import SpellChecker\n",
        "\n",
        "spell = SpellChecker()\n",
        "\n",
        "misspelled = spell.unknown(['lette', 'us', 'wlak','on','the','grou'])\n",
        "\n",
        "for word in misspelled:\n",
        "    # Get the one `most likely` answer\n",
        "    print(word)\n",
        "    print(spell.correction(word))\n",
        "    # Get a list of `likely` options\n",
        "    print(spell.candidates(word))"
      ],
      "execution_count": 26,
      "outputs": [
        {
          "output_type": "stream",
          "name": "stdout",
          "text": [
            "wlak\n",
            "walk\n",
            "{'wak', 'alak', 'walk', 'weak', 'flak', 'wlat', 'blak'}\n",
            "grou\n",
            "grow\n",
            "{'trou', 'grout', 'arou', 'gou', 'grog', 'groun', 'group', 'grow', 'grot', 'groo', 'grom', 'gros', 'grok', 'gro', 'rou', 'grau'}\n",
            "lette\n",
            "letter\n",
            "{'mette', 'sette', 'letme', 'lettle', 'letthe', 'bette', 'letts', 'ette', 'cette', 'dette', 'latte', 'leyte', 'litte', 'letta', 'lotte', 'lettie', 'lettre', 'letty', 'letter', 'lett', 'letzte'}\n"
          ]
        }
      ]
    },
    {
      "cell_type": "code",
      "metadata": {
        "id": "k0TKnjxHSNPV",
        "colab": {
          "resources": {
            "http://localhost:8080/nbextensions/google.colab/files.js": {
              "data": "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",
              "ok": true,
              "headers": [
                [
                  "content-type",
                  "application/javascript"
                ]
              ],
              "status": 200,
              "status_text": ""
            }
          },
          "base_uri": "https://localhost:8080/",
          "height": 73
        },
        "outputId": "5ae5150e-57b7-404e-bd9e-9630976edb9b"
      },
      "source": [
        "from google.colab import files\n",
        "uploaded = files.upload()"
      ],
      "execution_count": 27,
      "outputs": [
        {
          "output_type": "display_data",
          "data": {
            "text/html": [
              "\n",
              "     <input type=\"file\" id=\"files-d6be0012-b423-4e69-9470-5abbc9194299\" name=\"files[]\" multiple disabled\n",
              "        style=\"border:none\" />\n",
              "     <output id=\"result-d6be0012-b423-4e69-9470-5abbc9194299\">\n",
              "      Upload widget is only available when the cell has been executed in the\n",
              "      current browser session. Please rerun this cell to enable.\n",
              "      </output>\n",
              "      <script src=\"/nbextensions/google.colab/files.js\"></script> "
            ],
            "text/plain": [
              "<IPython.core.display.HTML object>"
            ]
          },
          "metadata": {}
        },
        {
          "output_type": "stream",
          "name": "stdout",
          "text": [
            "Saving Soil_Test.txt to Soil_Test.txt\n"
          ]
        }
      ]
    },
    {
      "cell_type": "code",
      "metadata": {
        "id": "OufLboV1VpPf",
        "colab": {
          "base_uri": "https://localhost:8080/"
        },
        "outputId": "f9063da3-61ad-44a2-e05f-75ee694785ed"
      },
      "source": [
        "f = open('Soil_Test.txt', 'r', encoding='utf8', errors='ignore') \n",
        "lines = f.read()\n",
        "print(lines)"
      ],
      "execution_count": 28,
      "outputs": [
        {
          "output_type": "stream",
          "name": "stdout",
          "text": [
            "Sandy Soil is light warm dry and tend to be acidic and low in nutrients. Sandy soil are often known as light soil due to their high proportion of sand and little clay (clay weighs more than sand).\n",
            "These soil have quick water drainage and are easy to work with. They are quicker to warm up in spring than clay soil but tend to dry out in summer and suffer from low nutrients that are washed away by rain.\n",
            "The addition of organic matter can help give plants an additional boost of nutrients by improving the nutrient and water holding capacity of the soil.Clay Soil is a heavy soil type that benefits from high nutrients. Clay soil remain wet and cold in winter and dry out in summer.These soil are made of over 25 percent clay and because of the spaces found between clay particles clay soil hold a high amount of water.\n",
            "Because these soil drain slowly and take longer to warm up in summer combined with drying out and cracking in summer they can often test gardeners\n",
            "Silt Soil is a light and moisture retentive soil type with a high fertility rating. As silt soil compromise of medium sized particles they are well drained and hold moisture well.As the particles are fine they can be easily compacted and are prone to washing away with rain. By adding organic matter the silt particles can be bound into more stable clumps.\n",
            "Peat soil is high in organic matter and retains a large amount of moisture. This type of soil is very rarely found in a garden and often imported into a garden to provide an optimum soil base for planting.Chalk soil can be either light or heavy but always highly alkaline due to the calcium carbonate or lime within its structure. As these soil are alkaline they will not support the growth of ericaceous plants that require acidic soil to grow.\n",
            "If a chalky soil shows signs of visible white lumps then they can’t be acidified and gardeners should be resigned to only choose plants that prefer an alkaline soil.Loam soil is a mixture of sand silt and clay that are combined to avoid the negative effects of each type.These soil are fertile easy to work with and provide good drainage. Depending on their predominant composition they can be either sandy or clay loam.\n",
            "As the soil are a perfect balance of soil particles they are considered to be a gardeners best friend but still benefit from topping up with additional organic matter.Silt which is known to have much smaller particles compared to sandy soil and is made up of rock and other mineral particles which are smaller than sand and larger than clay. It is the smooth and fine quality of the soil that holds water better than sand.  Silt is easily transported by moving currents and it is mainly found near the river lake and other water bodies. The silt soil is more fertile compared to the other three types of soil. Therefore it is also used in agricultural practices to improve soil fertility.\n",
            "The first type of soil is sand. It consists of small particles of weathered rock. Sandy soil are one of the poorest types of soil for growing plants because it has very low nutrients and poor water holding capacity which makes it hard for the plant’s roots to absorb water. This type of soil is very good for the drainage system. Sandy soil is usually formed by the breakdown or fragmentation of rocks like granite limestone and quartz.\n",
            "Silt which is known to have much smaller particles compared to sandy soil and is made up of rock and other mineral particles which are smaller than sand and larger than clay. It is the smooth and fine quality of the soil that holds water better than sand.  Silt is easily transported by moving currents and it is mainly found near the river lake and other water bodies. The silt soil is more fertile compared to the other three types of soil. Therefore it is also used in agricultural practices to improve soil fertility.\n",
            "Clay is the smallest particle amongst the other two types of soil. The particles in this soil are tightly packed together with each other with very little or no airspace. This soil has very good water storage qualities and makes it hard for moisture and air to penetrate into it. It is very sticky to the touch when wet but smooth when dried.  Clay is the densest and heaviest type of soil which does not drain well or provide space for plant roots to flourish.\n",
            "Loam is the fourth type of soil. It is a combination of sand silt and clay such that the beneficial properties from each is included. For instance it has the ability to retain moisture and nutrients; hence it is more suitable for farming. This soil is also referred to as agricultural soil as it includes an equilibrium of all three types of soil materials being sandy clay and silt and it also happens to have humus.  Apart from these it also has higher calcium and pH levels because of its inorganic origins\n",
            "inc deficiency occurs when plant growth is limited because the plant cannot take up sufficient quantities of this essential micronutrient from its growing medium.It is one of the most widespread micronutrient deficiencies in crops and pastures worldwide and causes large losses in crop production and crop quality.Almost half of the world's cereal crops are grown on zinc-deficient soil; as a result zinc deficiency in humans is a widespread problem.== Symptoms ==\n"
          ]
        }
      ]
    },
    {
      "cell_type": "code",
      "metadata": {
        "id": "gTq0XpFPWA90",
        "colab": {
          "base_uri": "https://localhost:8080/"
        },
        "outputId": "8903f568-5989-4481-e6d9-1cba79d37af1"
      },
      "source": [
        "nltk_tokens = nltk.sent_tokenize(lines)\n",
        "print(len(nltk_tokens))"
      ],
      "execution_count": 29,
      "outputs": [
        {
          "output_type": "stream",
          "name": "stdout",
          "text": [
            "39\n"
          ]
        }
      ]
    },
    {
      "cell_type": "code",
      "metadata": {
        "id": "SFZo0Nr6YYrD",
        "colab": {
          "base_uri": "https://localhost:8080/"
        },
        "outputId": "dcdc0270-0913-4b08-d537-b40d022718f6"
      },
      "source": [
        "nltk_tokens = nltk.word_tokenize(lines)\n",
        "print(len(nltk_tokens))\n",
        "\n",
        "tokens=nltk.word_tokenize(lines)"
      ],
      "execution_count": 31,
      "outputs": [
        {
          "output_type": "stream",
          "name": "stdout",
          "text": [
            "984\n"
          ]
        }
      ]
    },
    {
      "cell_type": "code",
      "metadata": {
        "colab": {
          "base_uri": "https://localhost:8080/"
        },
        "id": "Zt3NxCPJCfFr",
        "outputId": "a40362b3-6050-487e-fe75-000a39a2cd36"
      },
      "source": [
        "from nltk.corpus import stopwords\n",
        "#all_words = ['There', 'is', 'a', 'tree','near','the','river']\n",
        "for word in tokens: \n",
        "    if word not in stop_words:\n",
        "        print(word)"
      ],
      "execution_count": 36,
      "outputs": [
        {
          "output_type": "stream",
          "name": "stdout",
          "text": [
            "Sandy\n",
            "Soil\n",
            "light\n",
            "warm\n",
            "dry\n",
            "tend\n",
            "acidic\n",
            "low\n",
            "nutrients\n",
            "Sandy\n",
            "soil\n",
            "often\n",
            "known\n",
            "light\n",
            "soil\n",
            "due\n",
            "high\n",
            "proportion\n",
            "sand\n",
            "little\n",
            "clay\n",
            "(\n",
            "clay\n",
            "weighs\n",
            "sand\n",
            ")\n",
            "These\n",
            "soil\n",
            "quick\n",
            "water\n",
            "drainage\n",
            "easy\n",
            "work\n",
            "They\n",
            "quicker\n",
            "warm\n",
            "spring\n",
            "clay\n",
            "soil\n",
            "tend\n",
            "dry\n",
            "summer\n",
            "suffer\n",
            "low\n",
            "nutrients\n",
            "washed\n",
            "away\n",
            "rain\n",
            "The\n",
            "addition\n",
            "organic\n",
            "matter\n",
            "help\n",
            "give\n",
            "plants\n",
            "additional\n",
            "boost\n",
            "nutrients\n",
            "improving\n",
            "nutrient\n",
            "water\n",
            "holding\n",
            "capacity\n",
            "soil.Clay\n",
            "Soil\n",
            "heavy\n",
            "soil\n",
            "type\n",
            "benefits\n",
            "high\n",
            "nutrients\n",
            "Clay\n",
            "soil\n",
            "remain\n",
            "wet\n",
            "cold\n",
            "winter\n",
            "dry\n",
            "summer.These\n",
            "soil\n",
            "made\n",
            "25\n",
            "percent\n",
            "clay\n",
            "spaces\n",
            "found\n",
            "clay\n",
            "particles\n",
            "clay\n",
            "soil\n",
            "hold\n",
            "high\n",
            "amount\n",
            "water\n",
            "Because\n",
            "soil\n",
            "drain\n",
            "slowly\n",
            "take\n",
            "longer\n",
            "warm\n",
            "summer\n",
            "combined\n",
            "drying\n",
            "cracking\n",
            "summer\n",
            "often\n",
            "test\n",
            "gardeners\n",
            "Silt\n",
            "Soil\n",
            "light\n",
            "moisture\n",
            "retentive\n",
            "soil\n",
            "type\n",
            "high\n",
            "fertility\n",
            "rating\n",
            "As\n",
            "silt\n",
            "soil\n",
            "compromise\n",
            "medium\n",
            "sized\n",
            "particles\n",
            "well\n",
            "drained\n",
            "hold\n",
            "moisture\n",
            "well.As\n",
            "particles\n",
            "fine\n",
            "easily\n",
            "compacted\n",
            "prone\n",
            "washing\n",
            "away\n",
            "rain\n",
            "By\n",
            "adding\n",
            "organic\n",
            "matter\n",
            "silt\n",
            "particles\n",
            "bound\n",
            "stable\n",
            "clumps\n",
            "Peat\n",
            "soil\n",
            "high\n",
            "organic\n",
            "matter\n",
            "retains\n",
            "large\n",
            "amount\n",
            "moisture\n",
            "This\n",
            "type\n",
            "soil\n",
            "rarely\n",
            "found\n",
            "garden\n",
            "often\n",
            "imported\n",
            "garden\n",
            "provide\n",
            "optimum\n",
            "soil\n",
            "base\n",
            "planting.Chalk\n",
            "soil\n",
            "either\n",
            "light\n",
            "heavy\n",
            "always\n",
            "highly\n",
            "alkaline\n",
            "due\n",
            "calcium\n",
            "carbonate\n",
            "lime\n",
            "within\n",
            "structure\n",
            "As\n",
            "soil\n",
            "alkaline\n",
            "support\n",
            "growth\n",
            "ericaceous\n",
            "plants\n",
            "require\n",
            "acidic\n",
            "soil\n",
            "grow\n",
            "If\n",
            "chalky\n",
            "soil\n",
            "shows\n",
            "signs\n",
            "visible\n",
            "white\n",
            "lumps\n",
            "’\n",
            "acidified\n",
            "gardeners\n",
            "resigned\n",
            "choose\n",
            "plants\n",
            "prefer\n",
            "alkaline\n",
            "soil.Loam\n",
            "soil\n",
            "mixture\n",
            "sand\n",
            "silt\n",
            "clay\n",
            "combined\n",
            "avoid\n",
            "negative\n",
            "effects\n",
            "type.These\n",
            "soil\n",
            "fertile\n",
            "easy\n",
            "work\n",
            "provide\n",
            "good\n",
            "drainage\n",
            "Depending\n",
            "predominant\n",
            "composition\n",
            "either\n",
            "sandy\n",
            "clay\n",
            "loam\n",
            "As\n",
            "soil\n",
            "perfect\n",
            "balance\n",
            "soil\n",
            "particles\n",
            "considered\n",
            "gardeners\n",
            "best\n",
            "friend\n",
            "still\n",
            "benefit\n",
            "topping\n",
            "additional\n",
            "organic\n",
            "matter.Silt\n",
            "known\n",
            "much\n",
            "smaller\n",
            "particles\n",
            "compared\n",
            "sandy\n",
            "soil\n",
            "made\n",
            "rock\n",
            "mineral\n",
            "particles\n",
            "smaller\n",
            "sand\n",
            "larger\n",
            "clay\n",
            "It\n",
            "smooth\n",
            "fine\n",
            "quality\n",
            "soil\n",
            "holds\n",
            "water\n",
            "better\n",
            "sand\n",
            "Silt\n",
            "easily\n",
            "transported\n",
            "moving\n",
            "currents\n",
            "mainly\n",
            "found\n",
            "river\n",
            "lake\n",
            "water\n",
            "bodies\n",
            "The\n",
            "silt\n",
            "soil\n",
            "fertile\n",
            "compared\n",
            "three\n",
            "types\n",
            "soil\n",
            "Therefore\n",
            "used\n",
            "agricultural\n",
            "practices\n",
            "improve\n",
            "soil\n",
            "fertility\n",
            "The\n",
            "first\n",
            "type\n",
            "soil\n",
            "sand\n",
            "It\n",
            "consists\n",
            "small\n",
            "particles\n",
            "weathered\n",
            "rock\n",
            "Sandy\n",
            "soil\n",
            "one\n",
            "poorest\n",
            "types\n",
            "soil\n",
            "growing\n",
            "plants\n",
            "low\n",
            "nutrients\n",
            "poor\n",
            "water\n",
            "holding\n",
            "capacity\n",
            "makes\n",
            "hard\n",
            "plant\n",
            "’\n",
            "roots\n",
            "absorb\n",
            "water\n",
            "This\n",
            "type\n",
            "soil\n",
            "good\n",
            "drainage\n",
            "system\n",
            "Sandy\n",
            "soil\n",
            "usually\n",
            "formed\n",
            "breakdown\n",
            "fragmentation\n",
            "rocks\n",
            "like\n",
            "granite\n",
            "limestone\n",
            "quartz\n",
            "Silt\n",
            "known\n",
            "much\n",
            "smaller\n",
            "particles\n",
            "compared\n",
            "sandy\n",
            "soil\n",
            "made\n",
            "rock\n",
            "mineral\n",
            "particles\n",
            "smaller\n",
            "sand\n",
            "larger\n",
            "clay\n",
            "It\n",
            "smooth\n",
            "fine\n",
            "quality\n",
            "soil\n",
            "holds\n",
            "water\n",
            "better\n",
            "sand\n",
            "Silt\n",
            "easily\n",
            "transported\n",
            "moving\n",
            "currents\n",
            "mainly\n",
            "found\n",
            "river\n",
            "lake\n",
            "water\n",
            "bodies\n",
            "The\n",
            "silt\n",
            "soil\n",
            "fertile\n",
            "compared\n",
            "three\n",
            "types\n",
            "soil\n",
            "Therefore\n",
            "used\n",
            "agricultural\n",
            "practices\n",
            "improve\n",
            "soil\n",
            "fertility\n",
            "Clay\n",
            "smallest\n",
            "particle\n",
            "amongst\n",
            "two\n",
            "types\n",
            "soil\n",
            "The\n",
            "particles\n",
            "soil\n",
            "tightly\n",
            "packed\n",
            "together\n",
            "little\n",
            "airspace\n",
            "This\n",
            "soil\n",
            "good\n",
            "water\n",
            "storage\n",
            "qualities\n",
            "makes\n",
            "hard\n",
            "moisture\n",
            "air\n",
            "penetrate\n",
            "It\n",
            "sticky\n",
            "touch\n",
            "wet\n",
            "smooth\n",
            "dried\n",
            "Clay\n",
            "densest\n",
            "heaviest\n",
            "type\n",
            "soil\n",
            "drain\n",
            "well\n",
            "provide\n",
            "space\n",
            "plant\n",
            "roots\n",
            "flourish\n",
            "Loam\n",
            "fourth\n",
            "type\n",
            "soil\n",
            "It\n",
            "combination\n",
            "sand\n",
            "silt\n",
            "clay\n",
            "beneficial\n",
            "properties\n",
            "included\n",
            "For\n",
            "instance\n",
            "ability\n",
            "retain\n",
            "moisture\n",
            "nutrients\n",
            "hence\n",
            "suitable\n",
            "farming\n",
            "This\n",
            "soil\n",
            "referred\n",
            "agricultural\n",
            "soil\n",
            "includes\n",
            "equilibrium\n",
            "three\n",
            "types\n",
            "soil\n",
            "materials\n",
            "sandy\n",
            "clay\n",
            "silt\n",
            "happens\n",
            "humus\n",
            "Apart\n",
            "higher\n",
            "calcium\n",
            "pH\n",
            "levels\n",
            "inorganic\n",
            "origins\n",
            "inc\n",
            "deficiency\n",
            "occurs\n",
            "plant\n",
            "growth\n",
            "limited\n",
            "plant\n",
            "take\n",
            "sufficient\n",
            "quantities\n",
            "essential\n",
            "micronutrient\n",
            "growing\n",
            "medium.It\n",
            "one\n",
            "widespread\n",
            "micronutrient\n",
            "deficiencies\n",
            "crops\n",
            "pastures\n",
            "worldwide\n",
            "causes\n",
            "large\n",
            "losses\n",
            "crop\n",
            "production\n",
            "crop\n",
            "quality.Almost\n",
            "half\n",
            "world\n",
            "'s\n",
            "cereal\n",
            "crops\n",
            "grown\n",
            "zinc-deficient\n",
            "soil\n",
            "result\n",
            "zinc\n",
            "deficiency\n",
            "humans\n",
            "widespread\n",
            "problem.==\n",
            "Symptoms\n",
            "==\n"
          ]
        }
      ]
    },
    {
      "cell_type": "code",
      "metadata": {
        "id": "IUcN3RyKCxxc"
      },
      "source": [
        "stop_words.extend([',',';','also','.'])"
      ],
      "execution_count": 35,
      "outputs": []
    },
    {
      "cell_type": "code",
      "metadata": {
        "colab": {
          "base_uri": "https://localhost:8080/"
        },
        "id": "WuCD3MBYK6RG",
        "outputId": "47a2ebe3-f9ca-4a40-ffdc-91a4bad7817e"
      },
      "source": [
        "import nltk\n",
        "from nltk.probability import FreqDist\n",
        "tokens = nltk.tokenize.word_tokenize(lines)\n",
        "fdist=FreqDist(tokens)\n",
        "print(fdist)"
      ],
      "execution_count": 39,
      "outputs": [
        {
          "output_type": "stream",
          "name": "stdout",
          "text": [
            "<FreqDist with 339 samples and 984 outcomes>\n"
          ]
        }
      ]
    },
    {
      "cell_type": "code",
      "metadata": {
        "colab": {
          "base_uri": "https://localhost:8080/"
        },
        "id": "Mj2uc3lWMxw2",
        "outputId": "7a61108c-b6fc-497b-bf85-ed6d252168c9"
      },
      "source": [
        "import nltk\n",
        "\n",
        "#word_data = \"The best performance can bring in sky high success.\"\n",
        "nltk_tokens = nltk.word_tokenize(lines)  \t\n",
        "print(list(nltk.bigrams(nltk_tokens)))\n",
        "print(list(nltk.trigrams(nltk_tokens)))"
      ],
      "execution_count": null,
      "outputs": [
        {
          "output_type": "stream",
          "text": [
            "[('The', 'appellant'), ('appellant', 'has'), ('has', 'filed'), ('filed', 'this'), ('this', 'appeal'), ('appeal', 'challenging'), ('challenging', 'the'), ('the', 'impugned'), ('impugned', 'order'), ('order', 'of'), ('of', 'the'), ('the', 'Kerala'), ('Kerala', 'High'), ('High', 'Court'), ('Court', 'dated'), ('dated', '17.9.2010'), ('17.9.2010', 'granting'), ('granting', 'bail'), ('bail', 'to'), ('to', 'the'), ('the', 'respondent'), ('respondent', ','), (',', 'Dr.'), ('Dr.', 'Raneef'), ('Raneef', ','), (',', 'who'), ('who', 'is'), ('is', 'a'), ('a', 'medical'), ('medical', 'practitioner'), ('practitioner', 'dentist'), ('dentist', 'in'), ('in', 'Ernakulam'), ('Ernakulam', 'district'), ('district', 'in'), ('in', 'Kerala'), ('Kerala', ','), (',', 'and'), ('and', 'is'), ('is', 'accused'), ('accused', 'in'), ('in', 'crime'), ('crime', 'no.704'), ('no.704', 'of'), ('of', '2010'), ('2010', 'of'), ('of', 'P.S'), ('P.S', '.'), ('.', 'Muvattupuzha'), ('Muvattupuzha', 'for'), ('for', 'offences'), ('offences', 'under'), ('under', 'various'), ('various', 'provisions'), ('provisions', 'of'), ('of', 'the'), ('the', 'I.P.C.'), ('I.P.C.', ','), (',', 'the'), ('the', 'Explosive'), ('Explosive', 'Substances'), ('Substances', 'Act'), ('Act', ','), (',', 'and'), ('and', 'the'), ('the', 'Unlawful'), ('Unlawful', 'Activities'), ('Activities', 'Prevention'), ('Prevention', 'Act.The'), ('Act.The', 'facts'), ('facts', 'of'), ('of', 'the'), ('the', 'case'), ('case', 'are'), ('are', 'that'), ('that', 'on'), ('on', '4.7.2010'), ('4.7.2010', 'soon'), ('soon', 'after'), ('after', '8'), ('8', 'a.m.'), ('a.m.', 'seven'), ('seven', 'assailants'), ('assailants', 'came'), ('came', 'in'), ('in', 'a'), ('a', 'Maruti'), ('Maruti', 'Van'), ('Van', 'and'), ('and', 'assaulted'), ('assaulted', 'Prof.'), ('Prof.', 'T.J.'), ('T.J.', 'Jacob'), ('Jacob', 'of'), ('of', 'Newman'), ('Newman', 'College'), ('College', ','), (',', 'Thodupuzha'), ('Thodupuzha', 'and'), ('and', 'chopped'), ('chopped', 'off'), ('off', 'his'), ('his', 'right'), ('right', 'palm'), ('palm', 'from'), ('from', 'the'), ('the', 'vicinity'), ('vicinity', 'of'), ('of', 'his'), ('his', 'house'), ('house', 'when'), ('when', 'he'), ('he', 'was'), ('was', 'returning'), ('returning', 'home'), ('home', 'after'), ('after', 'Sunday'), ('Sunday', 'mass'), ('mass', '.'), ('.', 'The'), ('The', 'role'), ('role', 'attributed'), ('attributed', 'to'), ('to', 'the'), ('the', 'respondent'), ('respondent', 'is'), ('is', 'that'), ('that', 'he'), ('he', 'treated'), ('treated', 'one'), ('one', 'of'), ('of', 'the'), ('the', 'injured'), ('injured', 'assailants'), ('assailants', 'who'), ('who', 'was'), ('was', 'injured'), ('injured', 'when'), ('when', 'Prof.'), ('Prof.', 'Jacob'), ('Jacob', \"'s\"), (\"'s\", 'son'), ('son', 'tried'), ('tried', 'to'), ('to', 'protect'), ('protect', 'his'), ('his', 'father'), ('father', 'by'), ('by', 'suturing'), ('suturing', 'stitching'), ('stitching', 'his'), ('his', 'wound'), ('wound', 'on'), ('on', 'the'), ('the', 'back'), ('back', 'after'), ('after', 'applying'), ('applying', 'local'), ('local', 'anesthesia'), ('anesthesia', 'at'), ('at', 'a'), ('a', 'place'), ('place', '45'), ('45', 'kms'), ('kms', 'away'), ('away', 'from'), ('from', 'the'), ('the', 'place'), ('place', 'of'), ('of', 'the'), ('the', 'incident.The'), ('incident.The', 'alleged'), ('alleged', 'motive'), ('motive', 'for'), ('for', 'attacking'), ('attacking', 'Prof.'), ('Prof.', 'Jacob'), ('Jacob', 'was'), ('was', 'that'), ('that', 'he'), ('he', 'incorporated'), ('incorporated', 'a'), ('a', 'question'), ('question', 'for'), ('for', 'the'), ('the', 'internal'), ('internal', 'examination'), ('examination', 'of'), ('of', 'B.Com'), ('B.Com', '.'), ('.', 'paper'), ('paper', 'criticizing'), ('criticizing', 'Prophet'), ('Prophet', 'Mohammed'), ('Mohammed', 'and'), ('and', 'Islam.The'), ('Islam.The', 'prosecution'), ('prosecution', 'case'), ('case', 'is'), ('is', 'that'), ('that', 'the'), ('the', 'respondent'), ('respondent', 'gave'), ('gave', 'medical'), ('medical', 'aid'), ('aid', 'to'), ('to', 'one'), ('one', 'of'), ('of', 'the'), ('the', 'wounded'), ('wounded', 'accused'), ('accused', 'in'), ('in', 'pursuance'), ('pursuance', 'of'), ('of', 'a'), ('a', 'previous'), ('previous', 'plan'), ('plan', 'that'), ('that', 'if'), ('if', 'and'), ('and', 'when'), ('when', 'any'), ('any', 'of'), ('of', 'the'), ('the', 'assailants'), ('assailants', 'got'), ('got', 'injured'), ('injured', 'in'), ('in', 'the'), ('the', 'attack'), ('attack', 'on'), ('on', 'Prof.'), ('Prof.', 'Jacob'), ('Jacob', 'then'), ('then', 'immediate'), ('immediate', 'medical'), ('medical', 'treatment'), ('treatment', 'would'), ('would', 'be'), ('be', 'given'), ('given', 'by'), ('by', 'the'), ('the', 'respondent'), ('respondent', 'to'), ('to', 'the'), ('the', 'injured'), ('injured', '.'), ('.', 'The'), ('The', 'respondent'), ('respondent', 'stitched'), ('stitched', 'the'), ('the', 'back'), ('back', 'of'), ('of', 'an'), ('an', 'assailant'), ('assailant', ','), (',', 'which'), ('which', 'is'), ('is', 'not'), ('not', 'the'), ('the', 'job'), ('job', 'of'), ('of', 'a'), ('a', 'dentist'), ('dentist', '.'), ('.', 'The'), ('The', 'respondent'), ('respondent', ','), (',', 'along'), ('along', 'with'), ('with', 'the'), ('the', 'other'), ('other', 'accused'), ('accused', 'is'), ('is', 'a'), ('a', 'member'), ('member', 'of'), ('of', 'the'), ('the', 'Popular'), ('Popular', 'Front'), ('Front', 'of'), ('of', 'India'), ('India', ','), (',', 'a'), ('a', 'Muslim'), ('Muslim', 'organization'), ('organization', ','), (',', 'and'), ('and', 'was'), ('was', 'head'), ('head', 'of'), ('of', 'its'), ('its', 'medical'), ('medical', 'committee'), ('committee', '.'), ('.', 'Certain'), ('Certain', 'documents'), ('documents', ','), (',', 'C.D.s'), ('C.D.s', ','), (',', 'mobile'), ('mobile', 'phone'), ('phone', ','), (',', 'books'), ('books', ','), (',', 'etc'), ('etc', '.'), ('.', 'including'), ('including', 'a'), ('a', 'book'), ('book', 'called'), ('called', 'Jihad'), ('Jihad', 'were'), ('were', 'allegedly'), ('allegedly', 'seized'), ('seized', 'from'), ('from', 'his'), ('his', 'house'), ('house', 'and'), ('and', 'car.The'), ('car.The', 'prosecution'), ('prosecution', 'has'), ('has', 'placed'), ('placed', 'reliance'), ('reliance', 'on'), ('on', 'the'), ('the', 'proviso'), ('proviso', 'to'), ('to', 'Section'), ('Section', '43'), ('43', 'D5'), ('D5', 'of'), ('of', 'the'), ('the', 'Unlawful'), ('Unlawful', 'Activities'), ('Activities', 'PreventionAct'), ('PreventionAct', ','), (',', '1967'), ('1967', 'which'), ('which', 'states'), ('states', 'that'), ('that', 'the'), ('the', 'accused'), ('accused', 'shall'), ('shall', 'not'), ('not', 'be'), ('be', 'released'), ('released', 'on'), ('on', 'bail'), ('bail', 'if'), ('if', 'the'), ('the', 'Court'), ('Court', ','), (',', 'on'), ('on', 'perusal'), ('perusal', 'of'), ('of', 'the'), ('the', 'case'), ('case', 'diary'), ('diary', 'or'), ('or', 'the'), ('the', 'report'), ('report', 'under'), ('under', 'Section'), ('Section', '173'), ('173', 'Cr.P.C'), ('Cr.P.C', '.'), ('.', 'is'), ('is', 'of'), ('of', 'the'), ('the', 'opinion'), ('opinion', 'that'), ('that', 'there'), ('there', 'are'), ('are', 'reasonable'), ('reasonable', 'grounds'), ('grounds', 'for'), ('for', 'believing'), ('believing', 'that'), ('that', 'the'), ('the', 'accusation'), ('accusation', 'against'), ('against', 'such'), ('such', 'person'), ('person', 'is'), ('is', 'prima'), ('prima', 'facie'), ('facie', 'true.On'), ('true.On', 'the'), ('the', 'other'), ('other', 'hand'), ('hand', ','), (',', 'the'), ('the', 'case'), ('case', 'of'), ('of', 'the'), ('the', 'respondent'), ('respondent', 'as'), ('as', 'disclosed'), ('disclosed', 'in'), ('in', 'the'), ('the', 'counter'), ('counter', 'affidavit'), ('affidavit', 'filed'), ('filed', 'before'), ('before', 'us'), ('us', 'is'), ('is', 'that'), ('that', 'even'), ('even', 'according'), ('according', 'to'), ('to', 'the'), ('the', 'prosecution'), ('prosecution', 'case'), ('case', 'the'), ('the', 'respondent'), ('respondent', 'was'), ('was', 'not'), ('not', 'one'), ('one', 'of'), ('of', 'the'), ('the', 'assailants'), ('assailants', ','), (',', 'and'), ('and', 'he'), ('he', 'is'), ('is', 'not'), ('not', 'named'), ('named', 'in'), ('in', 'the'), ('the', 'FIR'), ('FIR', '.'), ('.', 'In'), ('In', 'para'), ('para', '13'), ('13', 'of'), ('of', 'the'), ('the', 'counter'), ('counter', 'affidavit'), ('affidavit', 'the'), ('the', 'respondent'), ('respondent', 'has'), ('has', 'stated'), ('stated', 'that'), ('that', 'the'), ('the', 'attack'), ('attack', 'on'), ('on', 'Prof.'), ('Prof.', 'Jacob'), ('Jacob', 'is'), ('is', 'a'), ('a', 'crime'), ('crime', 'which'), ('which', 'is'), ('is', 'to'), ('to', 'be'), ('be', 'condemned'), ('condemned', '.'), ('.', 'However'), ('However', ','), (',', 'as'), ('as', 'a'), ('a', 'pretext'), ('pretext', 'to'), ('to', 'the'), ('the', 'investigation'), ('investigation', 'the'), ('the', 'police'), ('police', 'had'), ('had', 'lashed'), ('lashed', 'out'), ('out', 'are'), ('are', 'in'), ('in', 'of'), ('of', 'terror'), ('terror', 'on'), ('on', 'innocent'), ('innocent', 'people'), ('people', 'of'), ('of', 'the'), ('the', 'minority'), ('minority', 'community'), ('community', ','), (',', 'people'), ('people', 'who'), ('who', 'are'), ('are', 'totally'), ('totally', 'innocent'), ('innocent', 'or'), ('or', 'even'), ('even', 'had'), ('had', 'no'), ('no', 'knowledge'), ('knowledge', 'of'), ('of', 'the'), ('the', 'crime'), ('crime', 'have'), ('have', 'been'), ('been', 'falsely'), ('falsely', 'implicated'), ('implicated', '.'), ('.', '54'), ('54', 'persons'), ('persons', 'have'), ('have', 'been'), ('been', 'made'), ('made', 'accused'), ('accused', 'in'), ('in', 'the'), ('the', 'crime'), ('crime', '.'), ('.', 'Many'), ('Many', 'residential'), ('residential', 'houses'), ('houses', ','), (',', 'mosques'), ('mosques', 'and'), ('and', 'offices'), ('offices', 'were'), ('were', 'raided'), ('raided', 'and'), ('and', 'searched'), ('searched', ','), (',', 'and'), ('and', 'even'), ('even', 'minor'), ('minor', 'children'), ('children', 'and'), ('and', 'women'), ('women', 'were'), ('were', 'cruelly'), ('cruelly', 'tortured'), ('tortured', 'both'), ('both', 'physically'), ('physically', 'and'), ('and', 'mentally'), ('mentally', '.'), ('.', 'Holy'), ('Holy', 'books'), ('books', 'and'), ('and', 'other'), ('other', 'religious'), ('religious', 'books'), ('books', 'were'), ('were', 'thrown'), ('thrown', 'out'), ('out', ','), (',', 'seized'), ('seized', 'and'), ('and', 'taken'), ('taken', 'away'), ('away', 'and'), ('and', 'bundled'), ('bundled', 'in'), ('in', 'police'), ('police', 'stations'), ('stations', '.'), ('.', 'War'), ('War', 'like'), ('like', 'atmosphere'), ('atmosphere', 'was'), ('was', 'created'), ('created', 'in'), ('in', 'mosques'), ('mosques', ','), (',', 'daily'), ('daily', 'prayers'), ('prayers', 'were'), ('were', 'disrupted'), ('disrupted', 'and'), ('and', 'men'), ('men', 'illegally'), ('illegally', 'detained'), ('detained', ','), (',', 'and'), ('and', 'physically'), ('physically', 'tortured'), ('tortured', 'in'), ('in', 'custody'), ('custody', 'and'), ('and', 'false'), ('false', 'cases'), ('cases', 'booked'), ('booked', 'against'), ('against', 'innocents.It'), ('innocents.It', 'is'), ('is', 'further'), ('further', 'alleged'), ('alleged', 'in'), ('in', 'the'), ('the', 'counter'), ('counter', 'affidavit'), ('affidavit', 'that'), ('that', 'the'), ('the', 'Popular'), ('Popular', 'Front'), ('Front', 'of'), ('of', 'India'), ('India', 'PFI'), ('PFI', 'or'), ('or', 'the'), ('the', 'Social'), ('Social', 'Democratic'), ('Democratic', 'Party'), ('Party', 'of'), ('of', 'India'), ('India', 'SDPI'), ('SDPI', 'are'), ('are', 'not'), ('not', 'militant'), ('militant', 'or'), ('or', 'terrorist'), ('terrorist', 'organizations'), ('organizations', '.'), ('.', 'There'), ('There', 'is'), ('is', 'no'), ('no', 'history'), ('history', 'of'), ('of', 'crimes'), ('crimes', 'against'), ('against', 'the'), ('the', 'party'), ('party', 'or'), ('or', 'its'), ('its', 'workers'), ('workers', '.'), ('.', 'They'), ('They', 'are'), ('are', 'not'), ('not', 'banned'), ('banned', 'organizations'), ('organizations', '.'), ('.', 'The'), ('The', 'SDPI'), ('SDPI', 'is'), ('is', 'a'), ('a', 'political'), ('political', 'party'), ('party', 'recognized'), ('recognized', 'by'), ('by', 'the'), ('the', 'Election'), ('Election', 'Commission'), ('Commission', 'and'), ('and', 'the'), ('the', 'PFI'), ('PFI', 'is'), ('is', 'registered'), ('registered', 'under'), ('under', 'the'), ('the', 'Societies'), ('Societies', 'Registration'), ('Registration', 'Act.The'), ('Act.The', 'respondent'), ('respondent', 'has'), ('has', 'alleged'), ('alleged', 'that'), ('that', 'he'), ('he', 'is'), ('is', 'a'), ('a', 'dental'), ('dental', 'surgeon'), ('surgeon', 'hailing'), ('hailing', 'from'), ('from', 'a'), ('a', 'respectable'), ('respectable', 'family'), ('family', 'in'), ('in', 'Aluva'), ('Aluva', '.'), ('.', 'His'), ('His', 'father'), ('father', 'Late'), ('Late', 'Dr.'), ('Dr.', 'Abdul'), ('Abdul', 'Karim'), ('Karim', 'was'), ('was', 'a'), ('a', 'doctor'), ('doctor', 'loved'), ('loved', 'and'), ('and', 'respected'), ('respected', 'by'), ('by', 'all'), ('all', ','), (',', 'who'), ('who', 'died'), ('died', 'as'), ('as', 'a'), ('a', 'Civil'), ('Civil', 'Surgeon'), ('Surgeon', 'while'), ('while', 'working'), ('working', 'in'), ('in', 'the'), ('the', 'Government'), ('Government', 'Hospital'), ('Hospital', ','), (',', 'Perumbaroor'), ('Perumbaroor', '.'), ('.', 'In'), ('In', '2001'), ('2001', 'the'), ('the', 'respondent'), ('respondent', 'started'), ('started', 'AlAmeen'), ('AlAmeen', 'Multi-Specialty'), ('Multi-Specialty', 'Dental'), ('Dental', 'Hospital'), ('Hospital', 'in'), ('in', 'Aluva'), ('Aluva', '.'), ('.', 'Five'), ('Five', 'other'), ('other', 'doctors'), ('doctors', 'including'), ('including', 'the'), ('the', 'respondents'), ('respondents', 'wife'), ('wife', ','), (',', 'who'), ('who', 'is'), ('is', 'also'), ('also', 'a'), ('a', 'dental'), ('dental', 'surgeon'), ('surgeon', ','), (',', 'are'), ('are', 'working'), ('working', 'in'), ('in', 'the'), ('the', 'said'), ('said', 'hospital'), ('hospital', '.'), ('.', 'The'), ('The', 'respondent'), ('respondent', 'has'), ('has', 'a'), ('a', 'son'), ('son', 'aged'), ('aged', '9'), ('9', 'years'), ('years', 'and'), ('and', 'daughter'), ('daughter', 'aged'), ('aged', '5'), ('5', 'years'), ('years', '.'), ('.', 'He'), ('He', 'claims'), ('claims', 'that'), ('that', 'he'), ('he', 'has'), ('has', 'a'), ('a', 'very'), ('very', 'good'), ('good', 'reputation'), ('reputation', 'and'), ('and', 'is'), ('is', 'loved'), ('loved', 'by'), ('by', 'all'), ('all', 'due'), ('due', 'to'), ('to', 'the'), ('the', 'services'), ('services', 'rendered'), ('rendered', 'by'), ('by', 'him'), ('him', 'to'), ('to', 'the'), ('the', 'poor'), ('poor', 'and'), ('and', 'needy'), ('needy', '.'), ('.', 'The'), ('The', 'respondents'), ('respondents', 'elder'), ('elder', 'sister'), ('sister', 'is'), ('is', 'a'), ('a', 'post'), ('post', 'graduate'), ('graduate', 'in'), ('in', 'zoology'), ('zoology', ','), (',', 'and'), ('and', 'his'), ('his', 'younger'), ('younger', 'sister'), ('sister', 'is'), ('is', 'a'), ('a', 'law'), ('law', 'graduate'), ('graduate', '.'), ('.', 'The'), ('The', 'book'), ('book', 'entitled'), ('entitled', 'Jihad'), ('Jihad', 'said'), ('said', 'to'), ('to', 'have'), ('have', 'been'), ('been', 'found'), ('found', 'in'), ('in', 'his'), ('his', 'house'), ('house', 'was'), ('was', 'a'), ('a', 'Malayalam'), ('Malayalam', 'translation'), ('translation', 'of'), ('of', 'a'), ('a', 'book'), ('book', 'written'), ('written', 'in'), ('in', 'Urdu'), ('Urdu', 'in'), ('in', '1927'), ('1927', 'by'), ('by', 'a'), ('a', 'well'), ('well', 'known'), ('known', 'and'), ('and', 'respected'), ('respected', 'religious'), ('religious', 'scholar'), ('scholar', ','), (',', 'Maulana'), ('Maulana', 'Sayyid'), ('Sayyid', 'Abul'), ('Abul', 'Ala'), ('Ala', 'Mandoodi'), ('Mandoodi', 'and'), ('and', 'has'), ('has', 'been'), ('been', 'in'), ('in', 'circulation'), ('circulation', 'for'), ('for', '83'), ('83', 'years'), ('years', ','), (',', 'and'), ('and', 'is'), ('is', 'available'), ('available', 'in'), ('in', 'many'), ('many', 'book'), ('book', 'shops.The'), ('shops.The', 'respondent'), ('respondent', 'has'), ('has', 'alleged'), ('alleged', 'that'), ('that', 'he'), ('he', 'has'), ('has', 'been'), ('been', 'falsely'), ('falsely', 'implicated'), ('implicated', 'only'), ('only', 'because'), ('because', 'he'), ('he', 'medically'), ('medically', 'treated'), ('treated', 'one'), ('one', 'of'), ('of', 'the'), ('the', 'alleged'), ('alleged', 'assailants'), ('assailants', '.')]\n",
            "[('The', 'appellant', 'has'), ('appellant', 'has', 'filed'), ('has', 'filed', 'this'), ('filed', 'this', 'appeal'), ('this', 'appeal', 'challenging'), ('appeal', 'challenging', 'the'), ('challenging', 'the', 'impugned'), ('the', 'impugned', 'order'), ('impugned', 'order', 'of'), ('order', 'of', 'the'), ('of', 'the', 'Kerala'), ('the', 'Kerala', 'High'), ('Kerala', 'High', 'Court'), ('High', 'Court', 'dated'), ('Court', 'dated', '17.9.2010'), ('dated', '17.9.2010', 'granting'), ('17.9.2010', 'granting', 'bail'), ('granting', 'bail', 'to'), ('bail', 'to', 'the'), ('to', 'the', 'respondent'), ('the', 'respondent', ','), ('respondent', ',', 'Dr.'), (',', 'Dr.', 'Raneef'), ('Dr.', 'Raneef', ','), ('Raneef', ',', 'who'), (',', 'who', 'is'), ('who', 'is', 'a'), ('is', 'a', 'medical'), ('a', 'medical', 'practitioner'), ('medical', 'practitioner', 'dentist'), ('practitioner', 'dentist', 'in'), ('dentist', 'in', 'Ernakulam'), ('in', 'Ernakulam', 'district'), ('Ernakulam', 'district', 'in'), ('district', 'in', 'Kerala'), ('in', 'Kerala', ','), ('Kerala', ',', 'and'), (',', 'and', 'is'), ('and', 'is', 'accused'), ('is', 'accused', 'in'), ('accused', 'in', 'crime'), ('in', 'crime', 'no.704'), ('crime', 'no.704', 'of'), ('no.704', 'of', '2010'), ('of', '2010', 'of'), ('2010', 'of', 'P.S'), ('of', 'P.S', '.'), ('P.S', '.', 'Muvattupuzha'), ('.', 'Muvattupuzha', 'for'), ('Muvattupuzha', 'for', 'offences'), ('for', 'offences', 'under'), ('offences', 'under', 'various'), ('under', 'various', 'provisions'), ('various', 'provisions', 'of'), ('provisions', 'of', 'the'), ('of', 'the', 'I.P.C.'), ('the', 'I.P.C.', ','), ('I.P.C.', ',', 'the'), (',', 'the', 'Explosive'), ('the', 'Explosive', 'Substances'), ('Explosive', 'Substances', 'Act'), ('Substances', 'Act', ','), ('Act', ',', 'and'), (',', 'and', 'the'), ('and', 'the', 'Unlawful'), ('the', 'Unlawful', 'Activities'), ('Unlawful', 'Activities', 'Prevention'), ('Activities', 'Prevention', 'Act.The'), ('Prevention', 'Act.The', 'facts'), ('Act.The', 'facts', 'of'), ('facts', 'of', 'the'), ('of', 'the', 'case'), ('the', 'case', 'are'), ('case', 'are', 'that'), ('are', 'that', 'on'), ('that', 'on', '4.7.2010'), ('on', '4.7.2010', 'soon'), ('4.7.2010', 'soon', 'after'), ('soon', 'after', '8'), ('after', '8', 'a.m.'), ('8', 'a.m.', 'seven'), ('a.m.', 'seven', 'assailants'), ('seven', 'assailants', 'came'), ('assailants', 'came', 'in'), ('came', 'in', 'a'), ('in', 'a', 'Maruti'), ('a', 'Maruti', 'Van'), ('Maruti', 'Van', 'and'), ('Van', 'and', 'assaulted'), ('and', 'assaulted', 'Prof.'), ('assaulted', 'Prof.', 'T.J.'), ('Prof.', 'T.J.', 'Jacob'), ('T.J.', 'Jacob', 'of'), ('Jacob', 'of', 'Newman'), ('of', 'Newman', 'College'), ('Newman', 'College', ','), ('College', ',', 'Thodupuzha'), (',', 'Thodupuzha', 'and'), ('Thodupuzha', 'and', 'chopped'), ('and', 'chopped', 'off'), ('chopped', 'off', 'his'), ('off', 'his', 'right'), ('his', 'right', 'palm'), ('right', 'palm', 'from'), ('palm', 'from', 'the'), ('from', 'the', 'vicinity'), ('the', 'vicinity', 'of'), ('vicinity', 'of', 'his'), ('of', 'his', 'house'), ('his', 'house', 'when'), ('house', 'when', 'he'), ('when', 'he', 'was'), ('he', 'was', 'returning'), ('was', 'returning', 'home'), ('returning', 'home', 'after'), ('home', 'after', 'Sunday'), ('after', 'Sunday', 'mass'), ('Sunday', 'mass', '.'), ('mass', '.', 'The'), ('.', 'The', 'role'), ('The', 'role', 'attributed'), ('role', 'attributed', 'to'), ('attributed', 'to', 'the'), ('to', 'the', 'respondent'), ('the', 'respondent', 'is'), ('respondent', 'is', 'that'), ('is', 'that', 'he'), ('that', 'he', 'treated'), ('he', 'treated', 'one'), ('treated', 'one', 'of'), ('one', 'of', 'the'), ('of', 'the', 'injured'), ('the', 'injured', 'assailants'), ('injured', 'assailants', 'who'), ('assailants', 'who', 'was'), ('who', 'was', 'injured'), ('was', 'injured', 'when'), ('injured', 'when', 'Prof.'), ('when', 'Prof.', 'Jacob'), ('Prof.', 'Jacob', \"'s\"), ('Jacob', \"'s\", 'son'), (\"'s\", 'son', 'tried'), ('son', 'tried', 'to'), ('tried', 'to', 'protect'), ('to', 'protect', 'his'), ('protect', 'his', 'father'), ('his', 'father', 'by'), ('father', 'by', 'suturing'), ('by', 'suturing', 'stitching'), ('suturing', 'stitching', 'his'), ('stitching', 'his', 'wound'), ('his', 'wound', 'on'), ('wound', 'on', 'the'), ('on', 'the', 'back'), ('the', 'back', 'after'), ('back', 'after', 'applying'), ('after', 'applying', 'local'), ('applying', 'local', 'anesthesia'), ('local', 'anesthesia', 'at'), ('anesthesia', 'at', 'a'), ('at', 'a', 'place'), ('a', 'place', '45'), ('place', '45', 'kms'), ('45', 'kms', 'away'), ('kms', 'away', 'from'), ('away', 'from', 'the'), ('from', 'the', 'place'), ('the', 'place', 'of'), ('place', 'of', 'the'), ('of', 'the', 'incident.The'), ('the', 'incident.The', 'alleged'), ('incident.The', 'alleged', 'motive'), ('alleged', 'motive', 'for'), ('motive', 'for', 'attacking'), ('for', 'attacking', 'Prof.'), ('attacking', 'Prof.', 'Jacob'), ('Prof.', 'Jacob', 'was'), ('Jacob', 'was', 'that'), ('was', 'that', 'he'), ('that', 'he', 'incorporated'), ('he', 'incorporated', 'a'), ('incorporated', 'a', 'question'), ('a', 'question', 'for'), ('question', 'for', 'the'), ('for', 'the', 'internal'), ('the', 'internal', 'examination'), ('internal', 'examination', 'of'), ('examination', 'of', 'B.Com'), ('of', 'B.Com', '.'), ('B.Com', '.', 'paper'), ('.', 'paper', 'criticizing'), ('paper', 'criticizing', 'Prophet'), ('criticizing', 'Prophet', 'Mohammed'), ('Prophet', 'Mohammed', 'and'), ('Mohammed', 'and', 'Islam.The'), ('and', 'Islam.The', 'prosecution'), ('Islam.The', 'prosecution', 'case'), ('prosecution', 'case', 'is'), ('case', 'is', 'that'), ('is', 'that', 'the'), ('that', 'the', 'respondent'), ('the', 'respondent', 'gave'), ('respondent', 'gave', 'medical'), ('gave', 'medical', 'aid'), ('medical', 'aid', 'to'), ('aid', 'to', 'one'), ('to', 'one', 'of'), ('one', 'of', 'the'), ('of', 'the', 'wounded'), ('the', 'wounded', 'accused'), ('wounded', 'accused', 'in'), ('accused', 'in', 'pursuance'), ('in', 'pursuance', 'of'), ('pursuance', 'of', 'a'), ('of', 'a', 'previous'), ('a', 'previous', 'plan'), ('previous', 'plan', 'that'), ('plan', 'that', 'if'), ('that', 'if', 'and'), ('if', 'and', 'when'), ('and', 'when', 'any'), ('when', 'any', 'of'), ('any', 'of', 'the'), ('of', 'the', 'assailants'), ('the', 'assailants', 'got'), ('assailants', 'got', 'injured'), ('got', 'injured', 'in'), ('injured', 'in', 'the'), ('in', 'the', 'attack'), ('the', 'attack', 'on'), ('attack', 'on', 'Prof.'), ('on', 'Prof.', 'Jacob'), ('Prof.', 'Jacob', 'then'), ('Jacob', 'then', 'immediate'), ('then', 'immediate', 'medical'), ('immediate', 'medical', 'treatment'), ('medical', 'treatment', 'would'), ('treatment', 'would', 'be'), ('would', 'be', 'given'), ('be', 'given', 'by'), ('given', 'by', 'the'), ('by', 'the', 'respondent'), ('the', 'respondent', 'to'), ('respondent', 'to', 'the'), ('to', 'the', 'injured'), ('the', 'injured', '.'), ('injured', '.', 'The'), ('.', 'The', 'respondent'), ('The', 'respondent', 'stitched'), ('respondent', 'stitched', 'the'), ('stitched', 'the', 'back'), ('the', 'back', 'of'), ('back', 'of', 'an'), ('of', 'an', 'assailant'), ('an', 'assailant', ','), ('assailant', ',', 'which'), (',', 'which', 'is'), ('which', 'is', 'not'), ('is', 'not', 'the'), ('not', 'the', 'job'), ('the', 'job', 'of'), ('job', 'of', 'a'), ('of', 'a', 'dentist'), ('a', 'dentist', '.'), ('dentist', '.', 'The'), ('.', 'The', 'respondent'), ('The', 'respondent', ','), ('respondent', ',', 'along'), (',', 'along', 'with'), ('along', 'with', 'the'), ('with', 'the', 'other'), ('the', 'other', 'accused'), ('other', 'accused', 'is'), ('accused', 'is', 'a'), ('is', 'a', 'member'), ('a', 'member', 'of'), ('member', 'of', 'the'), ('of', 'the', 'Popular'), ('the', 'Popular', 'Front'), ('Popular', 'Front', 'of'), ('Front', 'of', 'India'), ('of', 'India', ','), ('India', ',', 'a'), (',', 'a', 'Muslim'), ('a', 'Muslim', 'organization'), ('Muslim', 'organization', ','), ('organization', ',', 'and'), (',', 'and', 'was'), ('and', 'was', 'head'), ('was', 'head', 'of'), ('head', 'of', 'its'), ('of', 'its', 'medical'), ('its', 'medical', 'committee'), ('medical', 'committee', '.'), ('committee', '.', 'Certain'), ('.', 'Certain', 'documents'), ('Certain', 'documents', ','), ('documents', ',', 'C.D.s'), (',', 'C.D.s', ','), ('C.D.s', ',', 'mobile'), (',', 'mobile', 'phone'), ('mobile', 'phone', ','), ('phone', ',', 'books'), (',', 'books', ','), ('books', ',', 'etc'), (',', 'etc', '.'), ('etc', '.', 'including'), ('.', 'including', 'a'), ('including', 'a', 'book'), ('a', 'book', 'called'), ('book', 'called', 'Jihad'), ('called', 'Jihad', 'were'), ('Jihad', 'were', 'allegedly'), ('were', 'allegedly', 'seized'), ('allegedly', 'seized', 'from'), ('seized', 'from', 'his'), ('from', 'his', 'house'), ('his', 'house', 'and'), ('house', 'and', 'car.The'), ('and', 'car.The', 'prosecution'), ('car.The', 'prosecution', 'has'), ('prosecution', 'has', 'placed'), ('has', 'placed', 'reliance'), ('placed', 'reliance', 'on'), ('reliance', 'on', 'the'), ('on', 'the', 'proviso'), ('the', 'proviso', 'to'), ('proviso', 'to', 'Section'), ('to', 'Section', '43'), ('Section', '43', 'D5'), ('43', 'D5', 'of'), ('D5', 'of', 'the'), ('of', 'the', 'Unlawful'), ('the', 'Unlawful', 'Activities'), ('Unlawful', 'Activities', 'PreventionAct'), ('Activities', 'PreventionAct', ','), ('PreventionAct', ',', '1967'), (',', '1967', 'which'), ('1967', 'which', 'states'), ('which', 'states', 'that'), ('states', 'that', 'the'), ('that', 'the', 'accused'), ('the', 'accused', 'shall'), ('accused', 'shall', 'not'), ('shall', 'not', 'be'), ('not', 'be', 'released'), ('be', 'released', 'on'), ('released', 'on', 'bail'), ('on', 'bail', 'if'), ('bail', 'if', 'the'), ('if', 'the', 'Court'), ('the', 'Court', ','), ('Court', ',', 'on'), (',', 'on', 'perusal'), ('on', 'perusal', 'of'), ('perusal', 'of', 'the'), ('of', 'the', 'case'), ('the', 'case', 'diary'), ('case', 'diary', 'or'), ('diary', 'or', 'the'), ('or', 'the', 'report'), ('the', 'report', 'under'), ('report', 'under', 'Section'), ('under', 'Section', '173'), ('Section', '173', 'Cr.P.C'), ('173', 'Cr.P.C', '.'), ('Cr.P.C', '.', 'is'), ('.', 'is', 'of'), ('is', 'of', 'the'), ('of', 'the', 'opinion'), ('the', 'opinion', 'that'), ('opinion', 'that', 'there'), ('that', 'there', 'are'), ('there', 'are', 'reasonable'), ('are', 'reasonable', 'grounds'), ('reasonable', 'grounds', 'for'), ('grounds', 'for', 'believing'), ('for', 'believing', 'that'), ('believing', 'that', 'the'), ('that', 'the', 'accusation'), ('the', 'accusation', 'against'), ('accusation', 'against', 'such'), ('against', 'such', 'person'), ('such', 'person', 'is'), ('person', 'is', 'prima'), ('is', 'prima', 'facie'), ('prima', 'facie', 'true.On'), ('facie', 'true.On', 'the'), ('true.On', 'the', 'other'), ('the', 'other', 'hand'), ('other', 'hand', ','), ('hand', ',', 'the'), (',', 'the', 'case'), ('the', 'case', 'of'), ('case', 'of', 'the'), ('of', 'the', 'respondent'), ('the', 'respondent', 'as'), ('respondent', 'as', 'disclosed'), ('as', 'disclosed', 'in'), ('disclosed', 'in', 'the'), ('in', 'the', 'counter'), ('the', 'counter', 'affidavit'), ('counter', 'affidavit', 'filed'), ('affidavit', 'filed', 'before'), ('filed', 'before', 'us'), ('before', 'us', 'is'), ('us', 'is', 'that'), ('is', 'that', 'even'), ('that', 'even', 'according'), ('even', 'according', 'to'), ('according', 'to', 'the'), ('to', 'the', 'prosecution'), ('the', 'prosecution', 'case'), ('prosecution', 'case', 'the'), ('case', 'the', 'respondent'), ('the', 'respondent', 'was'), ('respondent', 'was', 'not'), ('was', 'not', 'one'), ('not', 'one', 'of'), ('one', 'of', 'the'), ('of', 'the', 'assailants'), ('the', 'assailants', ','), ('assailants', ',', 'and'), (',', 'and', 'he'), ('and', 'he', 'is'), ('he', 'is', 'not'), ('is', 'not', 'named'), ('not', 'named', 'in'), ('named', 'in', 'the'), ('in', 'the', 'FIR'), ('the', 'FIR', '.'), ('FIR', '.', 'In'), ('.', 'In', 'para'), ('In', 'para', '13'), ('para', '13', 'of'), ('13', 'of', 'the'), ('of', 'the', 'counter'), ('the', 'counter', 'affidavit'), ('counter', 'affidavit', 'the'), ('affidavit', 'the', 'respondent'), ('the', 'respondent', 'has'), ('respondent', 'has', 'stated'), ('has', 'stated', 'that'), ('stated', 'that', 'the'), ('that', 'the', 'attack'), ('the', 'attack', 'on'), ('attack', 'on', 'Prof.'), ('on', 'Prof.', 'Jacob'), ('Prof.', 'Jacob', 'is'), ('Jacob', 'is', 'a'), ('is', 'a', 'crime'), ('a', 'crime', 'which'), ('crime', 'which', 'is'), ('which', 'is', 'to'), ('is', 'to', 'be'), ('to', 'be', 'condemned'), ('be', 'condemned', '.'), ('condemned', '.', 'However'), ('.', 'However', ','), ('However', ',', 'as'), (',', 'as', 'a'), ('as', 'a', 'pretext'), ('a', 'pretext', 'to'), ('pretext', 'to', 'the'), ('to', 'the', 'investigation'), ('the', 'investigation', 'the'), ('investigation', 'the', 'police'), ('the', 'police', 'had'), ('police', 'had', 'lashed'), ('had', 'lashed', 'out'), ('lashed', 'out', 'are'), ('out', 'are', 'in'), ('are', 'in', 'of'), ('in', 'of', 'terror'), ('of', 'terror', 'on'), ('terror', 'on', 'innocent'), ('on', 'innocent', 'people'), ('innocent', 'people', 'of'), ('people', 'of', 'the'), ('of', 'the', 'minority'), ('the', 'minority', 'community'), ('minority', 'community', ','), ('community', ',', 'people'), (',', 'people', 'who'), ('people', 'who', 'are'), ('who', 'are', 'totally'), ('are', 'totally', 'innocent'), ('totally', 'innocent', 'or'), ('innocent', 'or', 'even'), ('or', 'even', 'had'), ('even', 'had', 'no'), ('had', 'no', 'knowledge'), ('no', 'knowledge', 'of'), ('knowledge', 'of', 'the'), ('of', 'the', 'crime'), ('the', 'crime', 'have'), ('crime', 'have', 'been'), ('have', 'been', 'falsely'), ('been', 'falsely', 'implicated'), ('falsely', 'implicated', '.'), ('implicated', '.', '54'), ('.', '54', 'persons'), ('54', 'persons', 'have'), ('persons', 'have', 'been'), ('have', 'been', 'made'), ('been', 'made', 'accused'), ('made', 'accused', 'in'), ('accused', 'in', 'the'), ('in', 'the', 'crime'), ('the', 'crime', '.'), ('crime', '.', 'Many'), ('.', 'Many', 'residential'), ('Many', 'residential', 'houses'), ('residential', 'houses', ','), ('houses', ',', 'mosques'), (',', 'mosques', 'and'), ('mosques', 'and', 'offices'), ('and', 'offices', 'were'), ('offices', 'were', 'raided'), ('were', 'raided', 'and'), ('raided', 'and', 'searched'), ('and', 'searched', ','), ('searched', ',', 'and'), (',', 'and', 'even'), ('and', 'even', 'minor'), ('even', 'minor', 'children'), ('minor', 'children', 'and'), ('children', 'and', 'women'), ('and', 'women', 'were'), ('women', 'were', 'cruelly'), ('were', 'cruelly', 'tortured'), ('cruelly', 'tortured', 'both'), ('tortured', 'both', 'physically'), ('both', 'physically', 'and'), ('physically', 'and', 'mentally'), ('and', 'mentally', '.'), ('mentally', '.', 'Holy'), ('.', 'Holy', 'books'), ('Holy', 'books', 'and'), ('books', 'and', 'other'), ('and', 'other', 'religious'), ('other', 'religious', 'books'), ('religious', 'books', 'were'), ('books', 'were', 'thrown'), ('were', 'thrown', 'out'), ('thrown', 'out', ','), ('out', ',', 'seized'), (',', 'seized', 'and'), ('seized', 'and', 'taken'), ('and', 'taken', 'away'), ('taken', 'away', 'and'), ('away', 'and', 'bundled'), ('and', 'bundled', 'in'), ('bundled', 'in', 'police'), ('in', 'police', 'stations'), ('police', 'stations', '.'), ('stations', '.', 'War'), ('.', 'War', 'like'), ('War', 'like', 'atmosphere'), ('like', 'atmosphere', 'was'), ('atmosphere', 'was', 'created'), ('was', 'created', 'in'), ('created', 'in', 'mosques'), ('in', 'mosques', ','), ('mosques', ',', 'daily'), (',', 'daily', 'prayers'), ('daily', 'prayers', 'were'), ('prayers', 'were', 'disrupted'), ('were', 'disrupted', 'and'), ('disrupted', 'and', 'men'), ('and', 'men', 'illegally'), ('men', 'illegally', 'detained'), ('illegally', 'detained', ','), ('detained', ',', 'and'), (',', 'and', 'physically'), ('and', 'physically', 'tortured'), ('physically', 'tortured', 'in'), ('tortured', 'in', 'custody'), ('in', 'custody', 'and'), ('custody', 'and', 'false'), ('and', 'false', 'cases'), ('false', 'cases', 'booked'), ('cases', 'booked', 'against'), ('booked', 'against', 'innocents.It'), ('against', 'innocents.It', 'is'), ('innocents.It', 'is', 'further'), ('is', 'further', 'alleged'), ('further', 'alleged', 'in'), ('alleged', 'in', 'the'), ('in', 'the', 'counter'), ('the', 'counter', 'affidavit'), ('counter', 'affidavit', 'that'), ('affidavit', 'that', 'the'), ('that', 'the', 'Popular'), ('the', 'Popular', 'Front'), ('Popular', 'Front', 'of'), ('Front', 'of', 'India'), ('of', 'India', 'PFI'), ('India', 'PFI', 'or'), ('PFI', 'or', 'the'), ('or', 'the', 'Social'), ('the', 'Social', 'Democratic'), ('Social', 'Democratic', 'Party'), ('Democratic', 'Party', 'of'), ('Party', 'of', 'India'), ('of', 'India', 'SDPI'), ('India', 'SDPI', 'are'), ('SDPI', 'are', 'not'), ('are', 'not', 'militant'), ('not', 'militant', 'or'), ('militant', 'or', 'terrorist'), ('or', 'terrorist', 'organizations'), ('terrorist', 'organizations', '.'), ('organizations', '.', 'There'), ('.', 'There', 'is'), ('There', 'is', 'no'), ('is', 'no', 'history'), ('no', 'history', 'of'), ('history', 'of', 'crimes'), ('of', 'crimes', 'against'), ('crimes', 'against', 'the'), ('against', 'the', 'party'), ('the', 'party', 'or'), ('party', 'or', 'its'), ('or', 'its', 'workers'), ('its', 'workers', '.'), ('workers', '.', 'They'), ('.', 'They', 'are'), ('They', 'are', 'not'), ('are', 'not', 'banned'), ('not', 'banned', 'organizations'), ('banned', 'organizations', '.'), ('organizations', '.', 'The'), ('.', 'The', 'SDPI'), ('The', 'SDPI', 'is'), ('SDPI', 'is', 'a'), ('is', 'a', 'political'), ('a', 'political', 'party'), ('political', 'party', 'recognized'), ('party', 'recognized', 'by'), ('recognized', 'by', 'the'), ('by', 'the', 'Election'), ('the', 'Election', 'Commission'), ('Election', 'Commission', 'and'), ('Commission', 'and', 'the'), ('and', 'the', 'PFI'), ('the', 'PFI', 'is'), ('PFI', 'is', 'registered'), ('is', 'registered', 'under'), ('registered', 'under', 'the'), ('under', 'the', 'Societies'), ('the', 'Societies', 'Registration'), ('Societies', 'Registration', 'Act.The'), ('Registration', 'Act.The', 'respondent'), ('Act.The', 'respondent', 'has'), ('respondent', 'has', 'alleged'), ('has', 'alleged', 'that'), ('alleged', 'that', 'he'), ('that', 'he', 'is'), ('he', 'is', 'a'), ('is', 'a', 'dental'), ('a', 'dental', 'surgeon'), ('dental', 'surgeon', 'hailing'), ('surgeon', 'hailing', 'from'), ('hailing', 'from', 'a'), ('from', 'a', 'respectable'), ('a', 'respectable', 'family'), ('respectable', 'family', 'in'), ('family', 'in', 'Aluva'), ('in', 'Aluva', '.'), ('Aluva', '.', 'His'), ('.', 'His', 'father'), ('His', 'father', 'Late'), ('father', 'Late', 'Dr.'), ('Late', 'Dr.', 'Abdul'), ('Dr.', 'Abdul', 'Karim'), ('Abdul', 'Karim', 'was'), ('Karim', 'was', 'a'), ('was', 'a', 'doctor'), ('a', 'doctor', 'loved'), ('doctor', 'loved', 'and'), ('loved', 'and', 'respected'), ('and', 'respected', 'by'), ('respected', 'by', 'all'), ('by', 'all', ','), ('all', ',', 'who'), (',', 'who', 'died'), ('who', 'died', 'as'), ('died', 'as', 'a'), ('as', 'a', 'Civil'), ('a', 'Civil', 'Surgeon'), ('Civil', 'Surgeon', 'while'), ('Surgeon', 'while', 'working'), ('while', 'working', 'in'), ('working', 'in', 'the'), ('in', 'the', 'Government'), ('the', 'Government', 'Hospital'), ('Government', 'Hospital', ','), ('Hospital', ',', 'Perumbaroor'), (',', 'Perumbaroor', '.'), ('Perumbaroor', '.', 'In'), ('.', 'In', '2001'), ('In', '2001', 'the'), ('2001', 'the', 'respondent'), ('the', 'respondent', 'started'), ('respondent', 'started', 'AlAmeen'), ('started', 'AlAmeen', 'Multi-Specialty'), ('AlAmeen', 'Multi-Specialty', 'Dental'), ('Multi-Specialty', 'Dental', 'Hospital'), ('Dental', 'Hospital', 'in'), ('Hospital', 'in', 'Aluva'), ('in', 'Aluva', '.'), ('Aluva', '.', 'Five'), ('.', 'Five', 'other'), ('Five', 'other', 'doctors'), ('other', 'doctors', 'including'), ('doctors', 'including', 'the'), ('including', 'the', 'respondents'), ('the', 'respondents', 'wife'), ('respondents', 'wife', ','), ('wife', ',', 'who'), (',', 'who', 'is'), ('who', 'is', 'also'), ('is', 'also', 'a'), ('also', 'a', 'dental'), ('a', 'dental', 'surgeon'), ('dental', 'surgeon', ','), ('surgeon', ',', 'are'), (',', 'are', 'working'), ('are', 'working', 'in'), ('working', 'in', 'the'), ('in', 'the', 'said'), ('the', 'said', 'hospital'), ('said', 'hospital', '.'), ('hospital', '.', 'The'), ('.', 'The', 'respondent'), ('The', 'respondent', 'has'), ('respondent', 'has', 'a'), ('has', 'a', 'son'), ('a', 'son', 'aged'), ('son', 'aged', '9'), ('aged', '9', 'years'), ('9', 'years', 'and'), ('years', 'and', 'daughter'), ('and', 'daughter', 'aged'), ('daughter', 'aged', '5'), ('aged', '5', 'years'), ('5', 'years', '.'), ('years', '.', 'He'), ('.', 'He', 'claims'), ('He', 'claims', 'that'), ('claims', 'that', 'he'), ('that', 'he', 'has'), ('he', 'has', 'a'), ('has', 'a', 'very'), ('a', 'very', 'good'), ('very', 'good', 'reputation'), ('good', 'reputation', 'and'), ('reputation', 'and', 'is'), ('and', 'is', 'loved'), ('is', 'loved', 'by'), ('loved', 'by', 'all'), ('by', 'all', 'due'), ('all', 'due', 'to'), ('due', 'to', 'the'), ('to', 'the', 'services'), ('the', 'services', 'rendered'), ('services', 'rendered', 'by'), ('rendered', 'by', 'him'), ('by', 'him', 'to'), ('him', 'to', 'the'), ('to', 'the', 'poor'), ('the', 'poor', 'and'), ('poor', 'and', 'needy'), ('and', 'needy', '.'), ('needy', '.', 'The'), ('.', 'The', 'respondents'), ('The', 'respondents', 'elder'), ('respondents', 'elder', 'sister'), ('elder', 'sister', 'is'), ('sister', 'is', 'a'), ('is', 'a', 'post'), ('a', 'post', 'graduate'), ('post', 'graduate', 'in'), ('graduate', 'in', 'zoology'), ('in', 'zoology', ','), ('zoology', ',', 'and'), (',', 'and', 'his'), ('and', 'his', 'younger'), ('his', 'younger', 'sister'), ('younger', 'sister', 'is'), ('sister', 'is', 'a'), ('is', 'a', 'law'), ('a', 'law', 'graduate'), ('law', 'graduate', '.'), ('graduate', '.', 'The'), ('.', 'The', 'book'), ('The', 'book', 'entitled'), ('book', 'entitled', 'Jihad'), ('entitled', 'Jihad', 'said'), ('Jihad', 'said', 'to'), ('said', 'to', 'have'), ('to', 'have', 'been'), ('have', 'been', 'found'), ('been', 'found', 'in'), ('found', 'in', 'his'), ('in', 'his', 'house'), ('his', 'house', 'was'), ('house', 'was', 'a'), ('was', 'a', 'Malayalam'), ('a', 'Malayalam', 'translation'), ('Malayalam', 'translation', 'of'), ('translation', 'of', 'a'), ('of', 'a', 'book'), ('a', 'book', 'written'), ('book', 'written', 'in'), ('written', 'in', 'Urdu'), ('in', 'Urdu', 'in'), ('Urdu', 'in', '1927'), ('in', '1927', 'by'), ('1927', 'by', 'a'), ('by', 'a', 'well'), ('a', 'well', 'known'), ('well', 'known', 'and'), ('known', 'and', 'respected'), ('and', 'respected', 'religious'), ('respected', 'religious', 'scholar'), ('religious', 'scholar', ','), ('scholar', ',', 'Maulana'), (',', 'Maulana', 'Sayyid'), ('Maulana', 'Sayyid', 'Abul'), ('Sayyid', 'Abul', 'Ala'), ('Abul', 'Ala', 'Mandoodi'), ('Ala', 'Mandoodi', 'and'), ('Mandoodi', 'and', 'has'), ('and', 'has', 'been'), ('has', 'been', 'in'), ('been', 'in', 'circulation'), ('in', 'circulation', 'for'), ('circulation', 'for', '83'), ('for', '83', 'years'), ('83', 'years', ','), ('years', ',', 'and'), (',', 'and', 'is'), ('and', 'is', 'available'), ('is', 'available', 'in'), ('available', 'in', 'many'), ('in', 'many', 'book'), ('many', 'book', 'shops.The'), ('book', 'shops.The', 'respondent'), ('shops.The', 'respondent', 'has'), ('respondent', 'has', 'alleged'), ('has', 'alleged', 'that'), ('alleged', 'that', 'he'), ('that', 'he', 'has'), ('he', 'has', 'been'), ('has', 'been', 'falsely'), ('been', 'falsely', 'implicated'), ('falsely', 'implicated', 'only'), ('implicated', 'only', 'because'), ('only', 'because', 'he'), ('because', 'he', 'medically'), ('he', 'medically', 'treated'), ('medically', 'treated', 'one'), ('treated', 'one', 'of'), ('one', 'of', 'the'), ('of', 'the', 'alleged'), ('the', 'alleged', 'assailants'), ('alleged', 'assailants', '.')]\n"
          ],
          "name": "stdout"
        }
      ]
    },
    {
      "cell_type": "code",
      "metadata": {
        "colab": {
          "base_uri": "https://localhost:8080/"
        },
        "id": "5WFlI_BoaFQa",
        "outputId": "25d3603c-b407-48a3-8003-4cc301f525b1"
      },
      "source": [
        "\n",
        "fdist.most_common(20)\n"
      ],
      "execution_count": 41,
      "outputs": [
        {
          "output_type": "execute_result",
          "data": {
            "text/plain": [
              "[('soil', 46),\n",
              " ('and', 44),\n",
              " ('.', 38),\n",
              " ('of', 38),\n",
              " ('is', 34),\n",
              " ('the', 31),\n",
              " ('to', 29),\n",
              " ('are', 18),\n",
              " ('in', 15),\n",
              " ('a', 14),\n",
              " ('it', 13),\n",
              " ('clay', 12),\n",
              " ('particles', 11),\n",
              " ('water', 10),\n",
              " ('sand', 9),\n",
              " ('be', 8),\n",
              " ('than', 8),\n",
              " ('with', 8),\n",
              " ('that', 8),\n",
              " ('can', 8)]"
            ]
          },
          "metadata": {},
          "execution_count": 41
        }
      ]
    },
    {
      "cell_type": "code",
      "metadata": {
        "colab": {
          "base_uri": "https://localhost:8080/"
        },
        "id": "fKpW7B_iboeK",
        "outputId": "d8fc2065-a424-42e0-da1f-786c598050e6"
      },
      "source": [
        "from nltk.corpus import stopwords\n",
        "newlist=[]\n",
        "for word in tokens: \n",
        "    if word not in stop_words:\n",
        "        newlist.append(word)\n",
        "newlist    "
      ],
      "execution_count": null,
      "outputs": [
        {
          "output_type": "execute_result",
          "data": {
            "text/plain": [
              "['The',\n",
              " 'appellant',\n",
              " 'filed',\n",
              " 'appeal',\n",
              " 'challenging',\n",
              " 'impugned',\n",
              " 'order',\n",
              " 'Kerala',\n",
              " 'High',\n",
              " 'Court',\n",
              " 'dated',\n",
              " '17.9.2010',\n",
              " 'granting',\n",
              " 'bail',\n",
              " 'respondent',\n",
              " 'Dr.',\n",
              " 'Raneef',\n",
              " 'medical',\n",
              " 'practitioner',\n",
              " 'dentist',\n",
              " 'Ernakulam',\n",
              " 'district',\n",
              " 'Kerala',\n",
              " 'accused',\n",
              " 'crime',\n",
              " 'no.704',\n",
              " '2010',\n",
              " 'P.S',\n",
              " 'Muvattupuzha',\n",
              " 'offences',\n",
              " 'various',\n",
              " 'provisions',\n",
              " 'I.P.C.',\n",
              " 'Explosive',\n",
              " 'Substances',\n",
              " 'Act',\n",
              " 'Unlawful',\n",
              " 'Activities',\n",
              " 'Prevention',\n",
              " 'Act.The',\n",
              " 'facts',\n",
              " 'case',\n",
              " '4.7.2010',\n",
              " 'soon',\n",
              " '8',\n",
              " 'a.m.',\n",
              " 'seven',\n",
              " 'assailants',\n",
              " 'came',\n",
              " 'Maruti',\n",
              " 'Van',\n",
              " 'assaulted',\n",
              " 'Prof.',\n",
              " 'T.J.',\n",
              " 'Jacob',\n",
              " 'Newman',\n",
              " 'College',\n",
              " 'Thodupuzha',\n",
              " 'chopped',\n",
              " 'right',\n",
              " 'palm',\n",
              " 'vicinity',\n",
              " 'house',\n",
              " 'returning',\n",
              " 'home',\n",
              " 'Sunday',\n",
              " 'mass',\n",
              " 'The',\n",
              " 'role',\n",
              " 'attributed',\n",
              " 'respondent',\n",
              " 'treated',\n",
              " 'one',\n",
              " 'injured',\n",
              " 'assailants',\n",
              " 'injured',\n",
              " 'Prof.',\n",
              " 'Jacob',\n",
              " \"'s\",\n",
              " 'son',\n",
              " 'tried',\n",
              " 'protect',\n",
              " 'father',\n",
              " 'suturing',\n",
              " 'stitching',\n",
              " 'wound',\n",
              " 'back',\n",
              " 'applying',\n",
              " 'local',\n",
              " 'anesthesia',\n",
              " 'place',\n",
              " '45',\n",
              " 'kms',\n",
              " 'away',\n",
              " 'place',\n",
              " 'incident.The',\n",
              " 'alleged',\n",
              " 'motive',\n",
              " 'attacking',\n",
              " 'Prof.',\n",
              " 'Jacob',\n",
              " 'incorporated',\n",
              " 'question',\n",
              " 'internal',\n",
              " 'examination',\n",
              " 'B.Com',\n",
              " 'paper',\n",
              " 'criticizing',\n",
              " 'Prophet',\n",
              " 'Mohammed',\n",
              " 'Islam.The',\n",
              " 'prosecution',\n",
              " 'case',\n",
              " 'respondent',\n",
              " 'gave',\n",
              " 'medical',\n",
              " 'aid',\n",
              " 'one',\n",
              " 'wounded',\n",
              " 'accused',\n",
              " 'pursuance',\n",
              " 'previous',\n",
              " 'plan',\n",
              " 'assailants',\n",
              " 'got',\n",
              " 'injured',\n",
              " 'attack',\n",
              " 'Prof.',\n",
              " 'Jacob',\n",
              " 'immediate',\n",
              " 'medical',\n",
              " 'treatment',\n",
              " 'would',\n",
              " 'given',\n",
              " 'respondent',\n",
              " 'injured',\n",
              " 'The',\n",
              " 'respondent',\n",
              " 'stitched',\n",
              " 'back',\n",
              " 'assailant',\n",
              " 'job',\n",
              " 'dentist',\n",
              " 'The',\n",
              " 'respondent',\n",
              " 'along',\n",
              " 'accused',\n",
              " 'member',\n",
              " 'Popular',\n",
              " 'Front',\n",
              " 'India',\n",
              " 'Muslim',\n",
              " 'organization',\n",
              " 'head',\n",
              " 'medical',\n",
              " 'committee',\n",
              " 'Certain',\n",
              " 'documents',\n",
              " 'C.D.s',\n",
              " 'mobile',\n",
              " 'phone',\n",
              " 'books',\n",
              " 'etc',\n",
              " 'including',\n",
              " 'book',\n",
              " 'called',\n",
              " 'Jihad',\n",
              " 'allegedly',\n",
              " 'seized',\n",
              " 'house',\n",
              " 'car.The',\n",
              " 'prosecution',\n",
              " 'placed',\n",
              " 'reliance',\n",
              " 'proviso',\n",
              " 'Section',\n",
              " '43',\n",
              " 'D5',\n",
              " 'Unlawful',\n",
              " 'Activities',\n",
              " 'PreventionAct',\n",
              " '1967',\n",
              " 'states',\n",
              " 'accused',\n",
              " 'shall',\n",
              " 'released',\n",
              " 'bail',\n",
              " 'Court',\n",
              " 'perusal',\n",
              " 'case',\n",
              " 'diary',\n",
              " 'report',\n",
              " 'Section',\n",
              " '173',\n",
              " 'Cr.P.C',\n",
              " 'opinion',\n",
              " 'reasonable',\n",
              " 'grounds',\n",
              " 'believing',\n",
              " 'accusation',\n",
              " 'person',\n",
              " 'prima',\n",
              " 'facie',\n",
              " 'true.On',\n",
              " 'hand',\n",
              " 'case',\n",
              " 'respondent',\n",
              " 'disclosed',\n",
              " 'counter',\n",
              " 'affidavit',\n",
              " 'filed',\n",
              " 'us',\n",
              " 'even',\n",
              " 'according',\n",
              " 'prosecution',\n",
              " 'case',\n",
              " 'respondent',\n",
              " 'one',\n",
              " 'assailants',\n",
              " 'named',\n",
              " 'FIR',\n",
              " 'In',\n",
              " 'para',\n",
              " '13',\n",
              " 'counter',\n",
              " 'affidavit',\n",
              " 'respondent',\n",
              " 'stated',\n",
              " 'attack',\n",
              " 'Prof.',\n",
              " 'Jacob',\n",
              " 'crime',\n",
              " 'condemned',\n",
              " 'However',\n",
              " 'pretext',\n",
              " 'investigation',\n",
              " 'police',\n",
              " 'lashed',\n",
              " 'terror',\n",
              " 'innocent',\n",
              " 'people',\n",
              " 'minority',\n",
              " 'community',\n",
              " 'people',\n",
              " 'totally',\n",
              " 'innocent',\n",
              " 'even',\n",
              " 'knowledge',\n",
              " 'crime',\n",
              " 'falsely',\n",
              " 'implicated',\n",
              " '54',\n",
              " 'persons',\n",
              " 'made',\n",
              " 'accused',\n",
              " 'crime',\n",
              " 'Many',\n",
              " 'residential',\n",
              " 'houses',\n",
              " 'mosques',\n",
              " 'offices',\n",
              " 'raided',\n",
              " 'searched',\n",
              " 'even',\n",
              " 'minor',\n",
              " 'children',\n",
              " 'women',\n",
              " 'cruelly',\n",
              " 'tortured',\n",
              " 'physically',\n",
              " 'mentally',\n",
              " 'Holy',\n",
              " 'books',\n",
              " 'religious',\n",
              " 'books',\n",
              " 'thrown',\n",
              " 'seized',\n",
              " 'taken',\n",
              " 'away',\n",
              " 'bundled',\n",
              " 'police',\n",
              " 'stations',\n",
              " 'War',\n",
              " 'like',\n",
              " 'atmosphere',\n",
              " 'created',\n",
              " 'mosques',\n",
              " 'daily',\n",
              " 'prayers',\n",
              " 'disrupted',\n",
              " 'men',\n",
              " 'illegally',\n",
              " 'detained',\n",
              " 'physically',\n",
              " 'tortured',\n",
              " 'custody',\n",
              " 'false',\n",
              " 'cases',\n",
              " 'booked',\n",
              " 'innocents.It',\n",
              " 'alleged',\n",
              " 'counter',\n",
              " 'affidavit',\n",
              " 'Popular',\n",
              " 'Front',\n",
              " 'India',\n",
              " 'PFI',\n",
              " 'Social',\n",
              " 'Democratic',\n",
              " 'Party',\n",
              " 'India',\n",
              " 'SDPI',\n",
              " 'militant',\n",
              " 'terrorist',\n",
              " 'organizations',\n",
              " 'There',\n",
              " 'history',\n",
              " 'crimes',\n",
              " 'party',\n",
              " 'workers',\n",
              " 'They',\n",
              " 'banned',\n",
              " 'organizations',\n",
              " 'The',\n",
              " 'SDPI',\n",
              " 'political',\n",
              " 'party',\n",
              " 'recognized',\n",
              " 'Election',\n",
              " 'Commission',\n",
              " 'PFI',\n",
              " 'registered',\n",
              " 'Societies',\n",
              " 'Registration',\n",
              " 'Act.The',\n",
              " 'respondent',\n",
              " 'alleged',\n",
              " 'dental',\n",
              " 'surgeon',\n",
              " 'hailing',\n",
              " 'respectable',\n",
              " 'family',\n",
              " 'Aluva',\n",
              " 'His',\n",
              " 'father',\n",
              " 'Late',\n",
              " 'Dr.',\n",
              " 'Abdul',\n",
              " 'Karim',\n",
              " 'doctor',\n",
              " 'loved',\n",
              " 'respected',\n",
              " 'died',\n",
              " 'Civil',\n",
              " 'Surgeon',\n",
              " 'working',\n",
              " 'Government',\n",
              " 'Hospital',\n",
              " 'Perumbaroor',\n",
              " 'In',\n",
              " '2001',\n",
              " 'respondent',\n",
              " 'started',\n",
              " 'AlAmeen',\n",
              " 'Multi-Specialty',\n",
              " 'Dental',\n",
              " 'Hospital',\n",
              " 'Aluva',\n",
              " 'Five',\n",
              " 'doctors',\n",
              " 'including',\n",
              " 'respondents',\n",
              " 'wife',\n",
              " 'also',\n",
              " 'dental',\n",
              " 'surgeon',\n",
              " 'working',\n",
              " 'said',\n",
              " 'hospital',\n",
              " 'The',\n",
              " 'respondent',\n",
              " 'son',\n",
              " 'aged',\n",
              " '9',\n",
              " 'years',\n",
              " 'daughter',\n",
              " 'aged',\n",
              " '5',\n",
              " 'years',\n",
              " 'He',\n",
              " 'claims',\n",
              " 'good',\n",
              " 'reputation',\n",
              " 'loved',\n",
              " 'due',\n",
              " 'services',\n",
              " 'rendered',\n",
              " 'poor',\n",
              " 'needy',\n",
              " 'The',\n",
              " 'respondents',\n",
              " 'elder',\n",
              " 'sister',\n",
              " 'post',\n",
              " 'graduate',\n",
              " 'zoology',\n",
              " 'younger',\n",
              " 'sister',\n",
              " 'law',\n",
              " 'graduate',\n",
              " 'The',\n",
              " 'book',\n",
              " 'entitled',\n",
              " 'Jihad',\n",
              " 'said',\n",
              " 'found',\n",
              " 'house',\n",
              " 'Malayalam',\n",
              " 'translation',\n",
              " 'book',\n",
              " 'written',\n",
              " 'Urdu',\n",
              " '1927',\n",
              " 'well',\n",
              " 'known',\n",
              " 'respected',\n",
              " 'religious',\n",
              " 'scholar',\n",
              " 'Maulana',\n",
              " 'Sayyid',\n",
              " 'Abul',\n",
              " 'Ala',\n",
              " 'Mandoodi',\n",
              " 'circulation',\n",
              " '83',\n",
              " 'years',\n",
              " 'available',\n",
              " 'many',\n",
              " 'book',\n",
              " 'shops.The',\n",
              " 'respondent',\n",
              " 'alleged',\n",
              " 'falsely',\n",
              " 'implicated',\n",
              " 'medically',\n",
              " 'treated',\n",
              " 'one',\n",
              " 'alleged',\n",
              " 'assailants']"
            ]
          },
          "metadata": {
            "tags": []
          },
          "execution_count": 36
        }
      ]
    },
    {
      "cell_type": "code",
      "metadata": {
        "colab": {
          "base_uri": "https://localhost:8080/",
          "height": 35
        },
        "id": "fDKNnKuUyuvb",
        "outputId": "caaebebb-6fbb-4ee9-a7a0-e974331edd7b"
      },
      "source": [
        "fdist.max()"
      ],
      "execution_count": 43,
      "outputs": [
        {
          "output_type": "execute_result",
          "data": {
            "application/vnd.google.colaboratory.intrinsic+json": {
              "type": "string"
            },
            "text/plain": [
              "'soil'"
            ]
          },
          "metadata": {},
          "execution_count": 43
        }
      ]
    },
    {
      "cell_type": "code",
      "metadata": {
        "colab": {
          "base_uri": "https://localhost:8080/"
        },
        "id": "8CyNlvKF0SAP",
        "outputId": "c65ad48b-cef5-41a1-9fae-7899759fc866"
      },
      "source": [
        "fdist.tabulate()"
      ],
      "execution_count": 44,
      "outputs": [
        {
          "output_type": "stream",
          "name": "stdout",
          "text": [
            "          soil            and              .             of             is            the             to            are             in              a             it           clay      particles          water           sand             be           than           with           that            can          other           type           they           silt            for      nutrients             up           from           very             or          which           high           more             by            The       moisture             It          types           also          Sandy          light             as           have            but        organic         plants             an        because          found           Silt           This          sandy        smaller       compared            has          plant           Soil           warm            dry            low          often          known       drainage            out         summer         matter           Clay           made          these      gardeners      fertility             As           fine         easily           into        provide       alkaline            its            not           each        fertile           good           rock         smooth          three   agricultural           when           tend         acidic            due          their         little           easy           work           away           rain     additional        holding       capacity          heavy            wet           hold         amount          drain           take       combined           well          large         garden         either        calcium         growth              ’             on           much        mineral         larger        quality          holds         better    transported         moving       currents         mainly           near          river           lake         bodies      Therefore           used      practices        improve            one        growing          makes           hard          roots           this              ;     deficiency  micronutrient     widespread          crops           crop     proportion              (         weighs              )          These          quick           They        quicker         spring         suffer         washed       addition           help           give          boost      improving       nutrient      soil.Clay       benefits         remain           cold         winter   summer.These           over             25        percent         spaces        between        Because         slowly         longer         drying       cracking           test      retentive         rating     compromise         medium          sized        drained        well.As      compacted          prone        washing             By         adding          bound         stable         clumps           Peat        retains         rarely       imported        optimum           base planting.Chalk         always         highly      carbonate           lime         within      structure           will        support     ericaceous        require           grow             If         chalky          shows          signs        visible          white          lumps           then              t      acidified         should       resigned           only         choose         prefer      soil.Loam        mixture          avoid       negative        effects     type.These      Depending    predominant    composition           loam        perfect        balance     considered           best         friend          still        benefit        topping    matter.Silt          first       consists          small      weathered        poorest           poor              s         absorb         system        usually         formed      breakdown  fragmentation          rocks           like        granite      limestone         quartz       smallest       particle        amongst            two        tightly         packed       together             no       airspace        storage      qualities            air      penetrate         sticky          touch          dried        densest       heaviest           does          space       flourish           Loam         fourth    combination           such     beneficial     properties       included            For       instance        ability         retain          hence       suitable        farming       referred       includes    equilibrium            all      materials          being        happens          humus          Apart         higher             pH         levels      inorganic        origins            inc         occurs        limited     sufficient     quantities      essential      medium.It           most   deficiencies       pastures      worldwide         causes         losses     production quality.Almost           half          world             's         cereal          grown zinc-deficient         result           zinc         humans     problem.==       Symptoms             == \n",
            "            46             44             38             38             34             31             29             18             15             14             13             12             11             10              9              8              8              8              8              8              8              7              7              7              7              6              6              6              6              6              6              5              5              5              5              5              5              5              5              4              4              4              4              4              4              4              4              4              4              4              4              4              4              4              4              4              3              3              3              3              3              3              3              3              3              3              3              3              3              3              3              3              3              3              3              3              3              3              3              3              3              3              3              3              3              3              3              2              2              2              2              2              2              2              2              2              2              2              2              2              2              2              2              2              2              2              2              2              2              2              2              2              2              2              2              2              2              2              2              2              2              2              2              2              2              2              2              2              2              2              2              2              2              2              2              2              2              2              2              2              2              2              2              2              1              1              1              1              1              1              1              1              1              1              1              1              1              1              1              1              1              1              1              1              1              1              1              1              1              1              1              1              1              1              1              1              1              1              1              1              1              1              1              1              1              1              1              1              1              1              1              1              1              1              1              1              1              1              1              1              1              1              1              1              1              1              1              1              1              1              1              1              1              1              1              1              1              1              1              1              1              1              1              1              1              1              1              1              1              1              1              1              1              1              1              1              1              1              1              1              1              1              1              1              1              1              1              1              1              1              1              1              1              1              1              1              1              1              1              1              1              1              1              1              1              1              1              1              1              1              1              1              1              1              1              1              1              1              1              1              1              1              1              1              1              1              1              1              1              1              1              1              1              1              1              1              1              1              1              1              1              1              1              1              1              1              1              1              1              1              1              1              1              1              1              1              1              1              1              1              1              1              1              1              1              1              1              1              1              1              1              1              1              1              1              1              1              1              1 \n"
          ]
        }
      ]
    },
    {
      "cell_type": "code",
      "metadata": {
        "colab": {
          "base_uri": "https://localhost:8080/"
        },
        "id": "oK-PvSLk0ewQ",
        "outputId": "1daddf86-67f9-4cb1-c9f7-0e5f4b2339ea"
      },
      "source": [
        "fdist.N()\n"
      ],
      "execution_count": 45,
      "outputs": [
        {
          "output_type": "execute_result",
          "data": {
            "text/plain": [
              "984"
            ]
          },
          "metadata": {},
          "execution_count": 45
        }
      ]
    },
    {
      "cell_type": "code",
      "metadata": {
        "colab": {
          "base_uri": "https://localhost:8080/"
        },
        "id": "vznYG52iCNIy",
        "outputId": "97a4eb5c-23c0-43ce-c022-f63228666d8c"
      },
      "source": [
        "fdist.freq('soil')"
      ],
      "execution_count": 47,
      "outputs": [
        {
          "output_type": "execute_result",
          "data": {
            "text/plain": [
              "0.046747967479674794"
            ]
          },
          "metadata": {},
          "execution_count": 47
        }
      ]
    },
    {
      "cell_type": "code",
      "source": [
        "# function to check if small string is\n",
        "# there in big string\n",
        "def check(string, sub_str):\n",
        "\tif (string.find(sub_str) == -1):\n",
        "\t\tprint(\"NO\")\n",
        "\telse:\n",
        "\t\tprint(\"YES\")\n",
        "\t\t\t\n",
        "# driver code\n",
        "string = \"natural language processing\"\n",
        "sub_str =\"test\"\n",
        "check(string, sub_str)\n"
      ],
      "metadata": {
        "colab": {
          "base_uri": "https://localhost:8080/"
        },
        "id": "SEksFDZkWN43",
        "outputId": "e385066d-dafe-4fab-e0f8-7da8e6bcd794"
      },
      "execution_count": 51,
      "outputs": [
        {
          "output_type": "stream",
          "name": "stdout",
          "text": [
            "NO\n"
          ]
        }
      ]
    }
  ]
}